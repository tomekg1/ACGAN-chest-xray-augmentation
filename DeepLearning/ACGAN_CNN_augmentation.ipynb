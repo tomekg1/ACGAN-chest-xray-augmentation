{
  "nbformat": 4,
  "nbformat_minor": 0,
  "metadata": {
    "colab": {
      "provenance": [],
      "gpuType": "L4"
    },
    "kernelspec": {
      "name": "python3",
      "display_name": "Python 3"
    },
    "language_info": {
      "name": "python"
    },
    "accelerator": "GPU"
  },
  "cells": [
    {
      "cell_type": "code",
      "execution_count": null,
      "metadata": {
        "id": "yXFhGLlMCtCf"
      },
      "outputs": [],
      "source": [
        "import os\n",
        "import pathlib\n",
        "import shutil\n",
        "import cv2\n",
        "import pandas as pd\n",
        "from PIL import Image\n",
        "import numpy as np\n",
        "import matplotlib.pyplot as plt\n",
        "from tqdm import tqdm\n",
        "import zipfile\n",
        "from google.colab import drive\n",
        "import seaborn as sns\n",
        "from collections import Counter\n",
        "from sklearn.utils import class_weight\n",
        "\n",
        "import torch\n",
        "import torch.nn as nn\n",
        "import torch.optim as optim\n",
        "from torch.utils.data import DataLoader, TensorDataset\n",
        "from torchvision.utils import save_image\n",
        "\n",
        "import tensorflow as tf\n",
        "from tensorflow import keras\n",
        "from tensorflow.keras.preprocessing.image import ImageDataGenerator\n",
        "from tensorflow.keras.applications import EfficientNetB0, DenseNet121\n",
        "from tensorflow.keras.layers import Dense, Flatten, Dropout, GlobalAveragePooling2D\n",
        "from tensorflow.keras.preprocessing import  image_dataset_from_directory\n",
        "from tensorflow.keras.models import Model\n",
        "from tensorflow.keras import models, layers\n",
        "from sklearn.metrics import confusion_matrix, classification_report"
      ]
    },
    {
      "cell_type": "code",
      "source": [
        "drive.mount('/content/drive')"
      ],
      "metadata": {
        "colab": {
          "base_uri": "https://localhost:8080/"
        },
        "id": "8YjyMZCNCzfN",
        "outputId": "6fdf804b-7182-4cae-fa92-b4461be86798"
      },
      "execution_count": null,
      "outputs": [
        {
          "output_type": "stream",
          "name": "stdout",
          "text": [
            "Mounted at /content/drive\n"
          ]
        }
      ]
    },
    {
      "cell_type": "code",
      "source": [
        "zip_path = \"/content/drive/My Drive/SplitData_all.zip\"\n",
        "\n",
        "extract_path = \"/content/\"\n",
        "with zipfile.ZipFile(zip_path, 'r') as zip_ref:\n",
        "    zip_ref.extractall(extract_path)"
      ],
      "metadata": {
        "id": "a7JZ_iFrC4YY"
      },
      "execution_count": null,
      "outputs": []
    },
    {
      "cell_type": "code",
      "source": [
        "fixed_class_order = [\n",
        "    #'Atelectasis',\n",
        "    #'Cardiomegaly',\n",
        "    #'Consolidation',\n",
        "    #'Edema',\n",
        "    'Effusion',\n",
        "    #'Emphysema',\n",
        "    #'Fibrosis',\n",
        "    #'Hernia',\n",
        "    #'Infiltration',\n",
        "    #'Mass',\n",
        "    'No Finding'\n",
        "    #'Nodule',\n",
        "    #'Pleural_Thickening',\n",
        "    #'Pneumonia',\n",
        "    #'Pneumothorax'\n",
        "]"
      ],
      "metadata": {
        "id": "dh-6fAe__-xR"
      },
      "execution_count": null,
      "outputs": []
    },
    {
      "cell_type": "code",
      "source": [
        "class ReadDataset:\n",
        "    def __init__(self, datasetpath, fixed_class_order, image_shape):\n",
        "        self.datasetpath = datasetpath\n",
        "        self.fixed_class_order = fixed_class_order\n",
        "        self.image_shape = image_shape\n",
        "\n",
        "    def readImages(self):\n",
        "        self.finalImages = []\n",
        "        labels = []\n",
        "\n",
        "        for label_idx, class_name in enumerate(self.fixed_class_order):\n",
        "            image_path = pathlib.Path(os.path.join(self.datasetpath, class_name))\n",
        "            for img_path in image_path.glob('*.jpg'):\n",
        "                img = cv2.imread(str(img_path))\n",
        "                if img is not None:\n",
        "                    img = cv2.resize(img, self.image_shape)\n",
        "                    img = cv2.cvtColor(img, cv2.COLOR_BGR2RGB)\n",
        "                    img = (img / 255.0 - 0.5) / 0.5\n",
        "                    self.finalImages.append(img)\n",
        "                    labels.append(label_idx)\n",
        "\n",
        "        return np.array(self.finalImages), np.array(labels)"
      ],
      "metadata": {
        "id": "W_qy67lYC6HM"
      },
      "execution_count": null,
      "outputs": []
    },
    {
      "cell_type": "code",
      "source": [
        "readDatasetObject = ReadDataset('/content/SplitData_all/train', fixed_class_order, (128, 128))\n",
        "\n",
        "images, labels = readDatasetObject.readImages()"
      ],
      "metadata": {
        "id": "M1UpAW2AC6tq"
      },
      "execution_count": null,
      "outputs": []
    },
    {
      "cell_type": "code",
      "source": [
        "print(f\"Shape of images: {images.shape}\\nShape of labels: {labels.shape}\")\n",
        "\n",
        "print(sorted(Counter(labels).items()))"
      ],
      "metadata": {
        "colab": {
          "base_uri": "https://localhost:8080/"
        },
        "id": "yY_vnN1NC9d4",
        "outputId": "60fae005-1812-440a-f558-05662352a6e0"
      },
      "execution_count": null,
      "outputs": [
        {
          "output_type": "stream",
          "name": "stdout",
          "text": [
            "Shape of images: (6977, 128, 128, 3)\n",
            "Shape of labels: (6977,)\n",
            "[(np.int64(0), 1977), (np.int64(1), 5000)]\n"
          ]
        }
      ]
    },
    {
      "cell_type": "code",
      "source": [
        "device = torch.device(\"cuda\" if torch.cuda.is_available() else \"cpu\")\n",
        "print(f\"Using device: {device}\")"
      ],
      "metadata": {
        "colab": {
          "base_uri": "https://localhost:8080/"
        },
        "id": "A1F2stFnC-s5",
        "outputId": "c22b0f12-c96d-41c4-8e15-a7fee4c9a27e"
      },
      "execution_count": null,
      "outputs": [
        {
          "output_type": "stream",
          "name": "stdout",
          "text": [
            "Using device: cuda\n"
          ]
        }
      ]
    },
    {
      "cell_type": "code",
      "source": [
        "# Parameters\n",
        "# CovidGAN: batch_size = 64, learning_rate = 0.0002, beta = 0.5 (beta is the momentum of Adam optimizer), number of epochs = 2000.\n",
        "# CovidGAN has approximately 24 million parameters and it takes around 5 hours to train the model.\n",
        "# Covid, Pnaumonia, Normal IAGAN trained for 250 epochs, 32 batch size, learning\n",
        "# rates of 0.0004 and 0.0001 were used for the discriminator and generator, respectively.\n",
        "latent_dim = 100\n",
        "num_classes = len(fixed_class_order)\n",
        "img_shape = (3, 128, 128)\n",
        "batch_size = 32\n",
        "lr = 0.0002\n",
        "b1 = 0.5\n",
        "b2 = 0.999\n",
        "n_epochs = 150\n",
        "sample_interval = 5000"
      ],
      "metadata": {
        "id": "V91exXFyDAxh"
      },
      "execution_count": null,
      "outputs": []
    },
    {
      "cell_type": "code",
      "source": [
        "# Data preparation\n",
        "# Numpy Arrays to PyTorch Tensors and resizing (N,H,W,C) -> (N,C,H,W)\n",
        "images_tensor = torch.FloatTensor(images).permute(0, 3, 1, 2).to(device)\n",
        "labels_tensor = torch.LongTensor(labels).to(device)\n",
        "\n",
        "# sapmles check and resizing\n",
        "min_samples = min(images_tensor.size(0), labels_tensor.size(0))\n",
        "images_tensor = images_tensor[:min_samples]\n",
        "labels_tensor = labels_tensor[:min_samples]\n",
        "\n",
        "print(f\"Final images tensor shape: {images_tensor.shape}\")\n",
        "print(f\"Final labels tensor shape: {labels_tensor.shape}\")\n",
        "\n",
        "# DataLoader\n",
        "dataset = TensorDataset(images_tensor, labels_tensor)\n",
        "dataloader = DataLoader(dataset, batch_size=batch_size, shuffle=True)"
      ],
      "metadata": {
        "colab": {
          "base_uri": "https://localhost:8080/"
        },
        "id": "fxs2dZFBDH13",
        "outputId": "895d6b98-3583-4cfa-94b6-6d09f4c1dd29"
      },
      "execution_count": null,
      "outputs": [
        {
          "output_type": "stream",
          "name": "stdout",
          "text": [
            "Final images tensor shape: torch.Size([6977, 3, 128, 128])\n",
            "Final labels tensor shape: torch.Size([6977])\n"
          ]
        }
      ]
    },
    {
      "cell_type": "code",
      "source": [
        "# Generator ACGAN\n",
        "class Generator(nn.Module):\n",
        "    def __init__(self):\n",
        "        super(Generator, self).__init__()\n",
        "\n",
        "        self.label_embedding = nn.Embedding(num_classes, latent_dim)\n",
        "\n",
        "        self.init_size = img_shape[1] // 4\n",
        "        self.l1 = nn.Sequential(nn.Linear(latent_dim, 128 * self.init_size ** 2))\n",
        "\n",
        "        self.conv_blocks = nn.Sequential(\n",
        "            nn.BatchNorm2d(128),\n",
        "            nn.Upsample(scale_factor=2),\n",
        "            nn.Conv2d(128, 128, 3, stride=1, padding=1),\n",
        "            nn.BatchNorm2d(128, 0.8),\n",
        "            nn.LeakyReLU(0.2, inplace=True),\n",
        "            nn.Upsample(scale_factor=2),\n",
        "            nn.Conv2d(128, 64, 3, stride=1, padding=1),\n",
        "            nn.BatchNorm2d(64, 0.8),\n",
        "            nn.LeakyReLU(0.2, inplace=True),\n",
        "            nn.Conv2d(64, img_shape[0], 3, stride=1, padding=1),\n",
        "            nn.Tanh()\n",
        "        )\n",
        "\n",
        "    def forward(self, noise, labels):\n",
        "        gen_input = torch.mul(self.label_embedding(labels), noise)\n",
        "        out = self.l1(gen_input)\n",
        "        out = out.view(out.shape[0], 128, self.init_size, self.init_size)\n",
        "        img = self.conv_blocks(out)\n",
        "        return img"
      ],
      "metadata": {
        "id": "UHGlAKtFDdNk"
      },
      "execution_count": null,
      "outputs": []
    },
    {
      "cell_type": "code",
      "source": [
        "# Discriminator ACGAN\n",
        "class Discriminator(nn.Module):\n",
        "    def __init__(self):\n",
        "        super(Discriminator, self).__init__()\n",
        "\n",
        "        def discriminator_block(in_filters, out_filters, bn=True):\n",
        "            block = [nn.Conv2d(in_filters, out_filters, 3, 2, 1),\n",
        "                     nn.LeakyReLU(0.2, inplace=True)]\n",
        "            if bn:\n",
        "                block.append(nn.BatchNorm2d(out_filters, 0.8))\n",
        "            return block\n",
        "\n",
        "        self.conv_blocks = nn.Sequential(\n",
        "            *discriminator_block(img_shape[0], 16, bn=False),\n",
        "            *discriminator_block(16, 32),\n",
        "            *discriminator_block(32, 64),\n",
        "            *discriminator_block(64, 128),\n",
        "        )\n",
        "\n",
        "        ds_size = img_shape[1] // 2 ** 4\n",
        "\n",
        "        self.adv_layer = nn.Sequential(nn.Linear(128 * ds_size ** 2, 1), nn.Sigmoid())\n",
        "        self.aux_layer = nn.Linear(128 * ds_size ** 2, num_classes)  # torch.nn.CrossEntropyLoss() expect logits, not softmax result\n",
        "\n",
        "    def forward(self, img):\n",
        "        out = self.conv_blocks(img)\n",
        "        out = out.view(out.shape[0], -1)\n",
        "        validity = self.adv_layer(out)\n",
        "        label = self.aux_layer(out)\n",
        "        return validity, label\n"
      ],
      "metadata": {
        "id": "JfCl_1i4DgLq"
      },
      "execution_count": null,
      "outputs": []
    },
    {
      "cell_type": "code",
      "source": [
        "# Loss functions\n",
        "adversarial_loss = torch.nn.BCELoss()\n",
        "auxiliary_loss = torch.nn.CrossEntropyLoss()\n",
        "\n",
        "# Initialize models\n",
        "generator = Generator().to(device)\n",
        "discriminator = Discriminator().to(device)\n",
        "\n",
        "# Optimizers\n",
        "optimizer_G = optim.Adam(generator.parameters(), lr=lr, betas=(b1, b2))\n",
        "optimizer_D = optim.Adam(discriminator.parameters(), lr=lr, betas=(b1, b2))\n",
        "\n",
        "# Create output directory\n",
        "os.makedirs(\"acgan_images\", exist_ok=True)"
      ],
      "metadata": {
        "id": "GOFHWlyUDjAG"
      },
      "execution_count": null,
      "outputs": []
    },
    {
      "cell_type": "code",
      "source": [
        "# Directories for training images\n",
        "for pathology in fixed_class_order:\n",
        "    os.makedirs(f\"acgan_images/{pathology}\", exist_ok=True)\n",
        "\n",
        "g_losses = []\n",
        "d_losses = []\n",
        "\n",
        "# Training\n",
        "for epoch in range(n_epochs):\n",
        "    for i, (imgs, labels) in enumerate(tqdm(dataloader)):\n",
        "\n",
        "        batch_size = imgs.shape[0]\n",
        "\n",
        "        valid = torch.ones((batch_size, 1), device=device)\n",
        "        fake = torch.zeros((batch_size, 1), device=device)\n",
        "\n",
        "        # Train Generator\n",
        "        optimizer_G.zero_grad()\n",
        "\n",
        "        z = torch.randn(batch_size, latent_dim, device=device)\n",
        "        gen_labels = torch.randint(0, num_classes, (batch_size,), device=device)\n",
        "\n",
        "        gen_imgs = generator(z, gen_labels)\n",
        "        validity, pred_label = discriminator(gen_imgs)\n",
        "        # minimization of BCE L_source (real/fake loss) where D(G(n)) wants to be correct\n",
        "        g_loss_source = adversarial_loss(validity, valid)   # log (D(G(n, c_g))\n",
        "        g_loss_class = auxiliary_loss(pred_label, gen_labels)   # log P(c=c_g|G(n, c_g))\n",
        "        g_loss =  g_loss_class + g_loss_source\n",
        "\n",
        "        g_loss.backward()\n",
        "        optimizer_G.step()\n",
        "\n",
        "        # Train Discriminator\n",
        "        optimizer_D.zero_grad()\n",
        "\n",
        "        # Discriminator outputs\n",
        "        real_pred, real_aux = discriminator(imgs)\n",
        "\n",
        "        d_real_loss_source = adversarial_loss(real_pred, valid)   # log D(r)\n",
        "        d_real_loss_class = auxiliary_loss(real_aux, labels)   # log P(c=c_r|r)\n",
        "\n",
        "        fake_pred, fake_aux = discriminator(gen_imgs.detach())\n",
        "\n",
        "        d_fake_loss_source = adversarial_loss(fake_pred, fake)   # log (1 -D(G(n, c_g))\n",
        "        d_fake_loss_class = auxiliary_loss(fake_aux, gen_labels)   # log P(c=c_g|G(n, c_g))\n",
        "\n",
        "        d_loss_source = d_real_loss_source + d_fake_loss_source\n",
        "        d_loss_class = d_real_loss_class + d_fake_loss_class\n",
        "\n",
        "        d_loss =  d_loss_class + d_loss_source\n",
        "\n",
        "        d_loss.backward()\n",
        "        optimizer_D.step()\n",
        "\n",
        "    g_losses.append(g_loss.item())\n",
        "    d_losses.append(d_loss.item())\n",
        "    print(\n",
        "        f\"[Epoch {epoch}/{n_epochs}] [Batch {i}/{len(dataloader)}] \"\n",
        "        f\"[D loss: {d_loss.item():.4f}] [G loss: {g_loss.item():.4f}]\"\n",
        "    )\n",
        "    with torch.no_grad():\n",
        "        # Generate and save sample images for each class\n",
        "        samples_per_class = 1  # how many samples to generate per class\n",
        "        for class_idx, class_name in enumerate(fixed_class_order):\n",
        "            # Generate random noise\n",
        "            z = torch.randn(samples_per_class, latent_dim, device=device)\n",
        "            # Create labels for this class\n",
        "            labels = torch.full((samples_per_class,), class_idx, dtype=torch.long, device=device)\n",
        "\n",
        "            # Generate images\n",
        "            gen_imgs = generator(z, labels)\n",
        "\n",
        "            # Save each generated image\n",
        "            for img_idx, img in enumerate(gen_imgs):\n",
        "                save_image(img, f\"acgan_images/{class_name}/epoch{epoch}_{img_idx}.png\", normalize=True)"
      ],
      "metadata": {
        "colab": {
          "base_uri": "https://localhost:8080/"
        },
        "id": "p4BkaL1rDm7o",
        "outputId": "2e5ad8f7-7039-4d43-aa24-06b2dcdb5a62"
      },
      "execution_count": null,
      "outputs": [
        {
          "output_type": "stream",
          "name": "stderr",
          "text": [
            "100%|██████████| 219/219 [00:15<00:00, 14.48it/s]\n"
          ]
        },
        {
          "output_type": "stream",
          "name": "stdout",
          "text": [
            "[Epoch 0/150] [Batch 218/219] [D loss: 4.3335] [G loss: 0.7398]\n"
          ]
        },
        {
          "output_type": "stream",
          "name": "stderr",
          "text": [
            "100%|██████████| 219/219 [00:12<00:00, 16.87it/s]\n"
          ]
        },
        {
          "output_type": "stream",
          "name": "stdout",
          "text": [
            "[Epoch 1/150] [Batch 218/219] [D loss: 2.6027] [G loss: 0.7361]\n"
          ]
        },
        {
          "output_type": "stream",
          "name": "stderr",
          "text": [
            "100%|██████████| 219/219 [00:12<00:00, 16.86it/s]\n"
          ]
        },
        {
          "output_type": "stream",
          "name": "stdout",
          "text": [
            "[Epoch 2/150] [Batch 218/219] [D loss: 2.0641] [G loss: 0.6678]\n"
          ]
        },
        {
          "output_type": "stream",
          "name": "stderr",
          "text": [
            "100%|██████████| 219/219 [00:13<00:00, 16.73it/s]\n"
          ]
        },
        {
          "output_type": "stream",
          "name": "stdout",
          "text": [
            "[Epoch 3/150] [Batch 218/219] [D loss: 2.0720] [G loss: 1.1882]\n"
          ]
        },
        {
          "output_type": "stream",
          "name": "stderr",
          "text": [
            "100%|██████████| 219/219 [00:13<00:00, 16.52it/s]\n"
          ]
        },
        {
          "output_type": "stream",
          "name": "stdout",
          "text": [
            "[Epoch 4/150] [Batch 218/219] [D loss: 1.5776] [G loss: 0.7703]\n"
          ]
        },
        {
          "output_type": "stream",
          "name": "stderr",
          "text": [
            "100%|██████████| 219/219 [00:13<00:00, 16.29it/s]\n"
          ]
        },
        {
          "output_type": "stream",
          "name": "stdout",
          "text": [
            "[Epoch 5/150] [Batch 218/219] [D loss: 1.7735] [G loss: 0.8344]\n"
          ]
        },
        {
          "output_type": "stream",
          "name": "stderr",
          "text": [
            "100%|██████████| 219/219 [00:13<00:00, 16.16it/s]\n"
          ]
        },
        {
          "output_type": "stream",
          "name": "stdout",
          "text": [
            "[Epoch 6/150] [Batch 218/219] [D loss: 1.8169] [G loss: 1.0503]\n"
          ]
        },
        {
          "output_type": "stream",
          "name": "stderr",
          "text": [
            "100%|██████████| 219/219 [00:13<00:00, 16.33it/s]\n"
          ]
        },
        {
          "output_type": "stream",
          "name": "stdout",
          "text": [
            "[Epoch 7/150] [Batch 218/219] [D loss: 1.4596] [G loss: 0.7335]\n"
          ]
        },
        {
          "output_type": "stream",
          "name": "stderr",
          "text": [
            "100%|██████████| 219/219 [00:13<00:00, 16.44it/s]\n"
          ]
        },
        {
          "output_type": "stream",
          "name": "stdout",
          "text": [
            "[Epoch 8/150] [Batch 218/219] [D loss: 2.4001] [G loss: 1.0514]\n"
          ]
        },
        {
          "output_type": "stream",
          "name": "stderr",
          "text": [
            "100%|██████████| 219/219 [00:13<00:00, 16.53it/s]\n"
          ]
        },
        {
          "output_type": "stream",
          "name": "stdout",
          "text": [
            "[Epoch 9/150] [Batch 218/219] [D loss: 0.9039] [G loss: 1.0327]\n"
          ]
        },
        {
          "output_type": "stream",
          "name": "stderr",
          "text": [
            "100%|██████████| 219/219 [00:13<00:00, 16.57it/s]\n"
          ]
        },
        {
          "output_type": "stream",
          "name": "stdout",
          "text": [
            "[Epoch 10/150] [Batch 218/219] [D loss: 2.9484] [G loss: 1.0049]\n"
          ]
        },
        {
          "output_type": "stream",
          "name": "stderr",
          "text": [
            "100%|██████████| 219/219 [00:13<00:00, 16.49it/s]\n"
          ]
        },
        {
          "output_type": "stream",
          "name": "stdout",
          "text": [
            "[Epoch 11/150] [Batch 218/219] [D loss: 1.9966] [G loss: 0.9097]\n"
          ]
        },
        {
          "output_type": "stream",
          "name": "stderr",
          "text": [
            "100%|██████████| 219/219 [00:13<00:00, 16.45it/s]\n"
          ]
        },
        {
          "output_type": "stream",
          "name": "stdout",
          "text": [
            "[Epoch 12/150] [Batch 218/219] [D loss: 2.6168] [G loss: 0.7726]\n"
          ]
        },
        {
          "output_type": "stream",
          "name": "stderr",
          "text": [
            "100%|██████████| 219/219 [00:13<00:00, 16.43it/s]\n"
          ]
        },
        {
          "output_type": "stream",
          "name": "stdout",
          "text": [
            "[Epoch 13/150] [Batch 218/219] [D loss: 1.9670] [G loss: 0.3727]\n"
          ]
        },
        {
          "output_type": "stream",
          "name": "stderr",
          "text": [
            "100%|██████████| 219/219 [00:13<00:00, 16.42it/s]\n"
          ]
        },
        {
          "output_type": "stream",
          "name": "stdout",
          "text": [
            "[Epoch 14/150] [Batch 218/219] [D loss: 1.5693] [G loss: 0.8199]\n"
          ]
        },
        {
          "output_type": "stream",
          "name": "stderr",
          "text": [
            "100%|██████████| 219/219 [00:13<00:00, 16.43it/s]\n"
          ]
        },
        {
          "output_type": "stream",
          "name": "stdout",
          "text": [
            "[Epoch 15/150] [Batch 218/219] [D loss: 2.0234] [G loss: 0.9308]\n"
          ]
        },
        {
          "output_type": "stream",
          "name": "stderr",
          "text": [
            "100%|██████████| 219/219 [00:13<00:00, 16.45it/s]\n"
          ]
        },
        {
          "output_type": "stream",
          "name": "stdout",
          "text": [
            "[Epoch 16/150] [Batch 218/219] [D loss: 1.8502] [G loss: 0.9806]\n"
          ]
        },
        {
          "output_type": "stream",
          "name": "stderr",
          "text": [
            "100%|██████████| 219/219 [00:13<00:00, 16.48it/s]\n"
          ]
        },
        {
          "output_type": "stream",
          "name": "stdout",
          "text": [
            "[Epoch 17/150] [Batch 218/219] [D loss: 1.2944] [G loss: 0.9746]\n"
          ]
        },
        {
          "output_type": "stream",
          "name": "stderr",
          "text": [
            "100%|██████████| 219/219 [00:13<00:00, 16.48it/s]\n"
          ]
        },
        {
          "output_type": "stream",
          "name": "stdout",
          "text": [
            "[Epoch 18/150] [Batch 218/219] [D loss: 1.5445] [G loss: 1.0433]\n"
          ]
        },
        {
          "output_type": "stream",
          "name": "stderr",
          "text": [
            "100%|██████████| 219/219 [00:13<00:00, 16.48it/s]\n"
          ]
        },
        {
          "output_type": "stream",
          "name": "stdout",
          "text": [
            "[Epoch 19/150] [Batch 218/219] [D loss: 2.0985] [G loss: 0.9451]\n"
          ]
        },
        {
          "output_type": "stream",
          "name": "stderr",
          "text": [
            "100%|██████████| 219/219 [00:13<00:00, 16.46it/s]\n"
          ]
        },
        {
          "output_type": "stream",
          "name": "stdout",
          "text": [
            "[Epoch 20/150] [Batch 218/219] [D loss: 2.2637] [G loss: 0.3839]\n"
          ]
        },
        {
          "output_type": "stream",
          "name": "stderr",
          "text": [
            "100%|██████████| 219/219 [00:13<00:00, 16.43it/s]\n"
          ]
        },
        {
          "output_type": "stream",
          "name": "stdout",
          "text": [
            "[Epoch 21/150] [Batch 218/219] [D loss: 2.5042] [G loss: 0.5844]\n"
          ]
        },
        {
          "output_type": "stream",
          "name": "stderr",
          "text": [
            "100%|██████████| 219/219 [00:13<00:00, 16.44it/s]\n"
          ]
        },
        {
          "output_type": "stream",
          "name": "stdout",
          "text": [
            "[Epoch 22/150] [Batch 218/219] [D loss: 1.7744] [G loss: 1.0829]\n"
          ]
        },
        {
          "output_type": "stream",
          "name": "stderr",
          "text": [
            "100%|██████████| 219/219 [00:13<00:00, 16.44it/s]\n"
          ]
        },
        {
          "output_type": "stream",
          "name": "stdout",
          "text": [
            "[Epoch 23/150] [Batch 218/219] [D loss: 1.4270] [G loss: 1.1024]\n"
          ]
        },
        {
          "output_type": "stream",
          "name": "stderr",
          "text": [
            "100%|██████████| 219/219 [00:13<00:00, 16.46it/s]\n"
          ]
        },
        {
          "output_type": "stream",
          "name": "stdout",
          "text": [
            "[Epoch 24/150] [Batch 218/219] [D loss: 1.2268] [G loss: 0.7989]\n"
          ]
        },
        {
          "output_type": "stream",
          "name": "stderr",
          "text": [
            "100%|██████████| 219/219 [00:13<00:00, 16.47it/s]\n"
          ]
        },
        {
          "output_type": "stream",
          "name": "stdout",
          "text": [
            "[Epoch 25/150] [Batch 218/219] [D loss: 2.0750] [G loss: 0.9222]\n"
          ]
        },
        {
          "output_type": "stream",
          "name": "stderr",
          "text": [
            "100%|██████████| 219/219 [00:13<00:00, 16.45it/s]\n"
          ]
        },
        {
          "output_type": "stream",
          "name": "stdout",
          "text": [
            "[Epoch 26/150] [Batch 218/219] [D loss: 1.2765] [G loss: 1.1197]\n"
          ]
        },
        {
          "output_type": "stream",
          "name": "stderr",
          "text": [
            "100%|██████████| 219/219 [00:13<00:00, 16.46it/s]\n"
          ]
        },
        {
          "output_type": "stream",
          "name": "stdout",
          "text": [
            "[Epoch 27/150] [Batch 218/219] [D loss: 1.6898] [G loss: 1.0272]\n"
          ]
        },
        {
          "output_type": "stream",
          "name": "stderr",
          "text": [
            "100%|██████████| 219/219 [00:13<00:00, 16.45it/s]\n"
          ]
        },
        {
          "output_type": "stream",
          "name": "stdout",
          "text": [
            "[Epoch 28/150] [Batch 218/219] [D loss: 1.8003] [G loss: 0.5166]\n"
          ]
        },
        {
          "output_type": "stream",
          "name": "stderr",
          "text": [
            "100%|██████████| 219/219 [00:13<00:00, 16.46it/s]\n"
          ]
        },
        {
          "output_type": "stream",
          "name": "stdout",
          "text": [
            "[Epoch 29/150] [Batch 218/219] [D loss: 1.9005] [G loss: 0.7373]\n"
          ]
        },
        {
          "output_type": "stream",
          "name": "stderr",
          "text": [
            "100%|██████████| 219/219 [00:13<00:00, 16.46it/s]\n"
          ]
        },
        {
          "output_type": "stream",
          "name": "stdout",
          "text": [
            "[Epoch 30/150] [Batch 218/219] [D loss: 1.7184] [G loss: 0.5304]\n"
          ]
        },
        {
          "output_type": "stream",
          "name": "stderr",
          "text": [
            "100%|██████████| 219/219 [00:13<00:00, 16.47it/s]\n"
          ]
        },
        {
          "output_type": "stream",
          "name": "stdout",
          "text": [
            "[Epoch 31/150] [Batch 218/219] [D loss: 1.5907] [G loss: 0.9706]\n"
          ]
        },
        {
          "output_type": "stream",
          "name": "stderr",
          "text": [
            "100%|██████████| 219/219 [00:13<00:00, 16.46it/s]\n"
          ]
        },
        {
          "output_type": "stream",
          "name": "stdout",
          "text": [
            "[Epoch 32/150] [Batch 218/219] [D loss: 1.2742] [G loss: 0.7994]\n"
          ]
        },
        {
          "output_type": "stream",
          "name": "stderr",
          "text": [
            "100%|██████████| 219/219 [00:13<00:00, 16.46it/s]\n"
          ]
        },
        {
          "output_type": "stream",
          "name": "stdout",
          "text": [
            "[Epoch 33/150] [Batch 218/219] [D loss: 1.8637] [G loss: 0.7987]\n"
          ]
        },
        {
          "output_type": "stream",
          "name": "stderr",
          "text": [
            "100%|██████████| 219/219 [00:13<00:00, 16.45it/s]\n"
          ]
        },
        {
          "output_type": "stream",
          "name": "stdout",
          "text": [
            "[Epoch 34/150] [Batch 218/219] [D loss: 3.0390] [G loss: 0.7513]\n"
          ]
        },
        {
          "output_type": "stream",
          "name": "stderr",
          "text": [
            "100%|██████████| 219/219 [00:13<00:00, 16.46it/s]\n"
          ]
        },
        {
          "output_type": "stream",
          "name": "stdout",
          "text": [
            "[Epoch 35/150] [Batch 218/219] [D loss: 1.5588] [G loss: 0.8526]\n"
          ]
        },
        {
          "output_type": "stream",
          "name": "stderr",
          "text": [
            "100%|██████████| 219/219 [00:13<00:00, 16.45it/s]\n"
          ]
        },
        {
          "output_type": "stream",
          "name": "stdout",
          "text": [
            "[Epoch 36/150] [Batch 218/219] [D loss: 1.3776] [G loss: 0.7713]\n"
          ]
        },
        {
          "output_type": "stream",
          "name": "stderr",
          "text": [
            "100%|██████████| 219/219 [00:13<00:00, 16.46it/s]\n"
          ]
        },
        {
          "output_type": "stream",
          "name": "stdout",
          "text": [
            "[Epoch 37/150] [Batch 218/219] [D loss: 1.6229] [G loss: 0.7813]\n"
          ]
        },
        {
          "output_type": "stream",
          "name": "stderr",
          "text": [
            "100%|██████████| 219/219 [00:13<00:00, 16.47it/s]\n"
          ]
        },
        {
          "output_type": "stream",
          "name": "stdout",
          "text": [
            "[Epoch 38/150] [Batch 218/219] [D loss: 1.5314] [G loss: 0.6503]\n"
          ]
        },
        {
          "output_type": "stream",
          "name": "stderr",
          "text": [
            "100%|██████████| 219/219 [00:13<00:00, 16.46it/s]\n"
          ]
        },
        {
          "output_type": "stream",
          "name": "stdout",
          "text": [
            "[Epoch 39/150] [Batch 218/219] [D loss: 1.3912] [G loss: 0.9434]\n"
          ]
        },
        {
          "output_type": "stream",
          "name": "stderr",
          "text": [
            "100%|██████████| 219/219 [00:13<00:00, 16.46it/s]\n"
          ]
        },
        {
          "output_type": "stream",
          "name": "stdout",
          "text": [
            "[Epoch 40/150] [Batch 218/219] [D loss: 1.7239] [G loss: 0.5866]\n"
          ]
        },
        {
          "output_type": "stream",
          "name": "stderr",
          "text": [
            "100%|██████████| 219/219 [00:13<00:00, 16.45it/s]\n"
          ]
        },
        {
          "output_type": "stream",
          "name": "stdout",
          "text": [
            "[Epoch 41/150] [Batch 218/219] [D loss: 1.9753] [G loss: 0.5457]\n"
          ]
        },
        {
          "output_type": "stream",
          "name": "stderr",
          "text": [
            "100%|██████████| 219/219 [00:13<00:00, 16.45it/s]\n"
          ]
        },
        {
          "output_type": "stream",
          "name": "stdout",
          "text": [
            "[Epoch 42/150] [Batch 218/219] [D loss: 2.8521] [G loss: 0.5404]\n"
          ]
        },
        {
          "output_type": "stream",
          "name": "stderr",
          "text": [
            "100%|██████████| 219/219 [00:13<00:00, 16.45it/s]\n"
          ]
        },
        {
          "output_type": "stream",
          "name": "stdout",
          "text": [
            "[Epoch 43/150] [Batch 218/219] [D loss: 3.0271] [G loss: 0.8013]\n"
          ]
        },
        {
          "output_type": "stream",
          "name": "stderr",
          "text": [
            "100%|██████████| 219/219 [00:13<00:00, 16.45it/s]\n"
          ]
        },
        {
          "output_type": "stream",
          "name": "stdout",
          "text": [
            "[Epoch 44/150] [Batch 218/219] [D loss: 0.8418] [G loss: 0.7403]\n"
          ]
        },
        {
          "output_type": "stream",
          "name": "stderr",
          "text": [
            "100%|██████████| 219/219 [00:13<00:00, 16.46it/s]\n"
          ]
        },
        {
          "output_type": "stream",
          "name": "stdout",
          "text": [
            "[Epoch 45/150] [Batch 218/219] [D loss: 1.4209] [G loss: 0.5320]\n"
          ]
        },
        {
          "output_type": "stream",
          "name": "stderr",
          "text": [
            "100%|██████████| 219/219 [00:13<00:00, 16.45it/s]\n"
          ]
        },
        {
          "output_type": "stream",
          "name": "stdout",
          "text": [
            "[Epoch 46/150] [Batch 218/219] [D loss: 3.8527] [G loss: 0.6775]\n"
          ]
        },
        {
          "output_type": "stream",
          "name": "stderr",
          "text": [
            "100%|██████████| 219/219 [00:13<00:00, 16.45it/s]\n"
          ]
        },
        {
          "output_type": "stream",
          "name": "stdout",
          "text": [
            "[Epoch 47/150] [Batch 218/219] [D loss: 1.0484] [G loss: 1.0051]\n"
          ]
        },
        {
          "output_type": "stream",
          "name": "stderr",
          "text": [
            "100%|██████████| 219/219 [00:13<00:00, 16.45it/s]\n"
          ]
        },
        {
          "output_type": "stream",
          "name": "stdout",
          "text": [
            "[Epoch 48/150] [Batch 218/219] [D loss: 1.8300] [G loss: 0.5638]\n"
          ]
        },
        {
          "output_type": "stream",
          "name": "stderr",
          "text": [
            "100%|██████████| 219/219 [00:13<00:00, 16.45it/s]\n"
          ]
        },
        {
          "output_type": "stream",
          "name": "stdout",
          "text": [
            "[Epoch 49/150] [Batch 218/219] [D loss: 1.3519] [G loss: 0.6280]\n"
          ]
        },
        {
          "output_type": "stream",
          "name": "stderr",
          "text": [
            "100%|██████████| 219/219 [00:13<00:00, 16.46it/s]\n"
          ]
        },
        {
          "output_type": "stream",
          "name": "stdout",
          "text": [
            "[Epoch 50/150] [Batch 218/219] [D loss: 1.5876] [G loss: 0.6790]\n"
          ]
        },
        {
          "output_type": "stream",
          "name": "stderr",
          "text": [
            "100%|██████████| 219/219 [00:13<00:00, 16.46it/s]\n"
          ]
        },
        {
          "output_type": "stream",
          "name": "stdout",
          "text": [
            "[Epoch 51/150] [Batch 218/219] [D loss: 1.6807] [G loss: 0.5890]\n"
          ]
        },
        {
          "output_type": "stream",
          "name": "stderr",
          "text": [
            "100%|██████████| 219/219 [00:13<00:00, 16.47it/s]\n"
          ]
        },
        {
          "output_type": "stream",
          "name": "stdout",
          "text": [
            "[Epoch 52/150] [Batch 218/219] [D loss: 1.2196] [G loss: 0.9760]\n"
          ]
        },
        {
          "output_type": "stream",
          "name": "stderr",
          "text": [
            "100%|██████████| 219/219 [00:13<00:00, 16.46it/s]\n"
          ]
        },
        {
          "output_type": "stream",
          "name": "stdout",
          "text": [
            "[Epoch 53/150] [Batch 218/219] [D loss: 3.5514] [G loss: 0.6559]\n"
          ]
        },
        {
          "output_type": "stream",
          "name": "stderr",
          "text": [
            "100%|██████████| 219/219 [00:13<00:00, 16.45it/s]\n"
          ]
        },
        {
          "output_type": "stream",
          "name": "stdout",
          "text": [
            "[Epoch 54/150] [Batch 218/219] [D loss: 1.4595] [G loss: 0.6574]\n"
          ]
        },
        {
          "output_type": "stream",
          "name": "stderr",
          "text": [
            "100%|██████████| 219/219 [00:13<00:00, 16.45it/s]\n"
          ]
        },
        {
          "output_type": "stream",
          "name": "stdout",
          "text": [
            "[Epoch 55/150] [Batch 218/219] [D loss: 2.0820] [G loss: 0.5555]\n"
          ]
        },
        {
          "output_type": "stream",
          "name": "stderr",
          "text": [
            "100%|██████████| 219/219 [00:13<00:00, 16.45it/s]\n"
          ]
        },
        {
          "output_type": "stream",
          "name": "stdout",
          "text": [
            "[Epoch 56/150] [Batch 218/219] [D loss: 3.1811] [G loss: 0.7888]\n"
          ]
        },
        {
          "output_type": "stream",
          "name": "stderr",
          "text": [
            "100%|██████████| 219/219 [00:13<00:00, 16.44it/s]\n"
          ]
        },
        {
          "output_type": "stream",
          "name": "stdout",
          "text": [
            "[Epoch 57/150] [Batch 218/219] [D loss: 1.3697] [G loss: 0.7190]\n"
          ]
        },
        {
          "output_type": "stream",
          "name": "stderr",
          "text": [
            "100%|██████████| 219/219 [00:13<00:00, 16.46it/s]\n"
          ]
        },
        {
          "output_type": "stream",
          "name": "stdout",
          "text": [
            "[Epoch 58/150] [Batch 218/219] [D loss: 1.5199] [G loss: 0.6531]\n"
          ]
        },
        {
          "output_type": "stream",
          "name": "stderr",
          "text": [
            "100%|██████████| 219/219 [00:13<00:00, 16.46it/s]\n"
          ]
        },
        {
          "output_type": "stream",
          "name": "stdout",
          "text": [
            "[Epoch 59/150] [Batch 218/219] [D loss: 1.4445] [G loss: 0.8156]\n"
          ]
        },
        {
          "output_type": "stream",
          "name": "stderr",
          "text": [
            "100%|██████████| 219/219 [00:13<00:00, 16.45it/s]\n"
          ]
        },
        {
          "output_type": "stream",
          "name": "stdout",
          "text": [
            "[Epoch 60/150] [Batch 218/219] [D loss: 1.5171] [G loss: 0.7981]\n"
          ]
        },
        {
          "output_type": "stream",
          "name": "stderr",
          "text": [
            "100%|██████████| 219/219 [00:13<00:00, 16.45it/s]\n"
          ]
        },
        {
          "output_type": "stream",
          "name": "stdout",
          "text": [
            "[Epoch 61/150] [Batch 218/219] [D loss: 1.6890] [G loss: 0.7734]\n"
          ]
        },
        {
          "output_type": "stream",
          "name": "stderr",
          "text": [
            "100%|██████████| 219/219 [00:13<00:00, 16.45it/s]\n"
          ]
        },
        {
          "output_type": "stream",
          "name": "stdout",
          "text": [
            "[Epoch 62/150] [Batch 218/219] [D loss: 2.6805] [G loss: 0.4336]\n"
          ]
        },
        {
          "output_type": "stream",
          "name": "stderr",
          "text": [
            "100%|██████████| 219/219 [00:13<00:00, 16.46it/s]\n"
          ]
        },
        {
          "output_type": "stream",
          "name": "stdout",
          "text": [
            "[Epoch 63/150] [Batch 218/219] [D loss: 1.4494] [G loss: 0.7009]\n"
          ]
        },
        {
          "output_type": "stream",
          "name": "stderr",
          "text": [
            "100%|██████████| 219/219 [00:13<00:00, 16.46it/s]\n"
          ]
        },
        {
          "output_type": "stream",
          "name": "stdout",
          "text": [
            "[Epoch 64/150] [Batch 218/219] [D loss: 1.6117] [G loss: 0.9618]\n"
          ]
        },
        {
          "output_type": "stream",
          "name": "stderr",
          "text": [
            "100%|██████████| 219/219 [00:13<00:00, 16.46it/s]\n"
          ]
        },
        {
          "output_type": "stream",
          "name": "stdout",
          "text": [
            "[Epoch 65/150] [Batch 218/219] [D loss: 1.1165] [G loss: 0.6886]\n"
          ]
        },
        {
          "output_type": "stream",
          "name": "stderr",
          "text": [
            "100%|██████████| 219/219 [00:13<00:00, 16.46it/s]\n"
          ]
        },
        {
          "output_type": "stream",
          "name": "stdout",
          "text": [
            "[Epoch 66/150] [Batch 218/219] [D loss: 1.7017] [G loss: 0.9924]\n"
          ]
        },
        {
          "output_type": "stream",
          "name": "stderr",
          "text": [
            "100%|██████████| 219/219 [00:13<00:00, 16.45it/s]\n"
          ]
        },
        {
          "output_type": "stream",
          "name": "stdout",
          "text": [
            "[Epoch 67/150] [Batch 218/219] [D loss: 1.3467] [G loss: 0.7403]\n"
          ]
        },
        {
          "output_type": "stream",
          "name": "stderr",
          "text": [
            "100%|██████████| 219/219 [00:13<00:00, 16.45it/s]\n"
          ]
        },
        {
          "output_type": "stream",
          "name": "stdout",
          "text": [
            "[Epoch 68/150] [Batch 218/219] [D loss: 1.4278] [G loss: 0.8743]\n"
          ]
        },
        {
          "output_type": "stream",
          "name": "stderr",
          "text": [
            "100%|██████████| 219/219 [00:13<00:00, 16.45it/s]\n"
          ]
        },
        {
          "output_type": "stream",
          "name": "stdout",
          "text": [
            "[Epoch 69/150] [Batch 218/219] [D loss: 1.8327] [G loss: 0.5655]\n"
          ]
        },
        {
          "output_type": "stream",
          "name": "stderr",
          "text": [
            "100%|██████████| 219/219 [00:13<00:00, 16.46it/s]\n"
          ]
        },
        {
          "output_type": "stream",
          "name": "stdout",
          "text": [
            "[Epoch 70/150] [Batch 218/219] [D loss: 1.8429] [G loss: 0.3940]\n"
          ]
        },
        {
          "output_type": "stream",
          "name": "stderr",
          "text": [
            "100%|██████████| 219/219 [00:13<00:00, 16.49it/s]\n"
          ]
        },
        {
          "output_type": "stream",
          "name": "stdout",
          "text": [
            "[Epoch 71/150] [Batch 218/219] [D loss: 1.3139] [G loss: 0.8277]\n"
          ]
        },
        {
          "output_type": "stream",
          "name": "stderr",
          "text": [
            "100%|██████████| 219/219 [00:13<00:00, 16.49it/s]\n"
          ]
        },
        {
          "output_type": "stream",
          "name": "stdout",
          "text": [
            "[Epoch 72/150] [Batch 218/219] [D loss: 1.6380] [G loss: 0.8529]\n"
          ]
        },
        {
          "output_type": "stream",
          "name": "stderr",
          "text": [
            "100%|██████████| 219/219 [00:13<00:00, 16.48it/s]\n"
          ]
        },
        {
          "output_type": "stream",
          "name": "stdout",
          "text": [
            "[Epoch 73/150] [Batch 218/219] [D loss: 1.1822] [G loss: 0.9326]\n"
          ]
        },
        {
          "output_type": "stream",
          "name": "stderr",
          "text": [
            "100%|██████████| 219/219 [00:13<00:00, 16.48it/s]\n"
          ]
        },
        {
          "output_type": "stream",
          "name": "stdout",
          "text": [
            "[Epoch 74/150] [Batch 218/219] [D loss: 1.3179] [G loss: 0.5876]\n"
          ]
        },
        {
          "output_type": "stream",
          "name": "stderr",
          "text": [
            "100%|██████████| 219/219 [00:13<00:00, 16.47it/s]\n"
          ]
        },
        {
          "output_type": "stream",
          "name": "stdout",
          "text": [
            "[Epoch 75/150] [Batch 218/219] [D loss: 1.1623] [G loss: 0.6129]\n"
          ]
        },
        {
          "output_type": "stream",
          "name": "stderr",
          "text": [
            "100%|██████████| 219/219 [00:13<00:00, 16.46it/s]\n"
          ]
        },
        {
          "output_type": "stream",
          "name": "stdout",
          "text": [
            "[Epoch 76/150] [Batch 218/219] [D loss: 1.1462] [G loss: 0.7150]\n"
          ]
        },
        {
          "output_type": "stream",
          "name": "stderr",
          "text": [
            "100%|██████████| 219/219 [00:13<00:00, 16.45it/s]\n"
          ]
        },
        {
          "output_type": "stream",
          "name": "stdout",
          "text": [
            "[Epoch 77/150] [Batch 218/219] [D loss: 1.5127] [G loss: 0.8237]\n"
          ]
        },
        {
          "output_type": "stream",
          "name": "stderr",
          "text": [
            "100%|██████████| 219/219 [00:13<00:00, 16.46it/s]\n"
          ]
        },
        {
          "output_type": "stream",
          "name": "stdout",
          "text": [
            "[Epoch 78/150] [Batch 218/219] [D loss: 1.3102] [G loss: 0.7294]\n"
          ]
        },
        {
          "output_type": "stream",
          "name": "stderr",
          "text": [
            "100%|██████████| 219/219 [00:13<00:00, 16.46it/s]\n"
          ]
        },
        {
          "output_type": "stream",
          "name": "stdout",
          "text": [
            "[Epoch 79/150] [Batch 218/219] [D loss: 1.2040] [G loss: 0.5876]\n"
          ]
        },
        {
          "output_type": "stream",
          "name": "stderr",
          "text": [
            "100%|██████████| 219/219 [00:13<00:00, 16.45it/s]\n"
          ]
        },
        {
          "output_type": "stream",
          "name": "stdout",
          "text": [
            "[Epoch 80/150] [Batch 218/219] [D loss: 1.0039] [G loss: 0.8504]\n"
          ]
        },
        {
          "output_type": "stream",
          "name": "stderr",
          "text": [
            "100%|██████████| 219/219 [00:13<00:00, 16.45it/s]\n"
          ]
        },
        {
          "output_type": "stream",
          "name": "stdout",
          "text": [
            "[Epoch 81/150] [Batch 218/219] [D loss: 2.0973] [G loss: 0.8619]\n"
          ]
        },
        {
          "output_type": "stream",
          "name": "stderr",
          "text": [
            "100%|██████████| 219/219 [00:13<00:00, 16.45it/s]\n"
          ]
        },
        {
          "output_type": "stream",
          "name": "stdout",
          "text": [
            "[Epoch 82/150] [Batch 218/219] [D loss: 2.8099] [G loss: 1.0055]\n"
          ]
        },
        {
          "output_type": "stream",
          "name": "stderr",
          "text": [
            "100%|██████████| 219/219 [00:13<00:00, 16.46it/s]\n"
          ]
        },
        {
          "output_type": "stream",
          "name": "stdout",
          "text": [
            "[Epoch 83/150] [Batch 218/219] [D loss: 2.7967] [G loss: 0.7002]\n"
          ]
        },
        {
          "output_type": "stream",
          "name": "stderr",
          "text": [
            "100%|██████████| 219/219 [00:13<00:00, 16.47it/s]\n"
          ]
        },
        {
          "output_type": "stream",
          "name": "stdout",
          "text": [
            "[Epoch 84/150] [Batch 218/219] [D loss: 1.1628] [G loss: 0.7875]\n"
          ]
        },
        {
          "output_type": "stream",
          "name": "stderr",
          "text": [
            "100%|██████████| 219/219 [00:13<00:00, 16.45it/s]\n"
          ]
        },
        {
          "output_type": "stream",
          "name": "stdout",
          "text": [
            "[Epoch 85/150] [Batch 218/219] [D loss: 1.3236] [G loss: 0.9013]\n"
          ]
        },
        {
          "output_type": "stream",
          "name": "stderr",
          "text": [
            "100%|██████████| 219/219 [00:13<00:00, 16.46it/s]\n"
          ]
        },
        {
          "output_type": "stream",
          "name": "stdout",
          "text": [
            "[Epoch 86/150] [Batch 218/219] [D loss: 1.2940] [G loss: 0.9613]\n"
          ]
        },
        {
          "output_type": "stream",
          "name": "stderr",
          "text": [
            "100%|██████████| 219/219 [00:13<00:00, 16.46it/s]\n"
          ]
        },
        {
          "output_type": "stream",
          "name": "stdout",
          "text": [
            "[Epoch 87/150] [Batch 218/219] [D loss: 1.8809] [G loss: 0.8392]\n"
          ]
        },
        {
          "output_type": "stream",
          "name": "stderr",
          "text": [
            "100%|██████████| 219/219 [00:13<00:00, 16.46it/s]\n"
          ]
        },
        {
          "output_type": "stream",
          "name": "stdout",
          "text": [
            "[Epoch 88/150] [Batch 218/219] [D loss: 2.4879] [G loss: 0.5695]\n"
          ]
        },
        {
          "output_type": "stream",
          "name": "stderr",
          "text": [
            "100%|██████████| 219/219 [00:13<00:00, 16.47it/s]\n"
          ]
        },
        {
          "output_type": "stream",
          "name": "stdout",
          "text": [
            "[Epoch 89/150] [Batch 218/219] [D loss: 1.2271] [G loss: 0.6377]\n"
          ]
        },
        {
          "output_type": "stream",
          "name": "stderr",
          "text": [
            "100%|██████████| 219/219 [00:13<00:00, 16.47it/s]\n"
          ]
        },
        {
          "output_type": "stream",
          "name": "stdout",
          "text": [
            "[Epoch 90/150] [Batch 218/219] [D loss: 1.2289] [G loss: 0.9030]\n"
          ]
        },
        {
          "output_type": "stream",
          "name": "stderr",
          "text": [
            "100%|██████████| 219/219 [00:13<00:00, 16.45it/s]\n"
          ]
        },
        {
          "output_type": "stream",
          "name": "stdout",
          "text": [
            "[Epoch 91/150] [Batch 218/219] [D loss: 1.0010] [G loss: 0.9449]\n"
          ]
        },
        {
          "output_type": "stream",
          "name": "stderr",
          "text": [
            "100%|██████████| 219/219 [00:13<00:00, 16.46it/s]\n"
          ]
        },
        {
          "output_type": "stream",
          "name": "stdout",
          "text": [
            "[Epoch 92/150] [Batch 218/219] [D loss: 1.4178] [G loss: 0.8454]\n"
          ]
        },
        {
          "output_type": "stream",
          "name": "stderr",
          "text": [
            "100%|██████████| 219/219 [00:13<00:00, 16.46it/s]\n"
          ]
        },
        {
          "output_type": "stream",
          "name": "stdout",
          "text": [
            "[Epoch 93/150] [Batch 218/219] [D loss: 1.4348] [G loss: 0.5544]\n"
          ]
        },
        {
          "output_type": "stream",
          "name": "stderr",
          "text": [
            "100%|██████████| 219/219 [00:13<00:00, 16.46it/s]\n"
          ]
        },
        {
          "output_type": "stream",
          "name": "stdout",
          "text": [
            "[Epoch 94/150] [Batch 218/219] [D loss: 1.1468] [G loss: 0.9884]\n"
          ]
        },
        {
          "output_type": "stream",
          "name": "stderr",
          "text": [
            "100%|██████████| 219/219 [00:13<00:00, 16.46it/s]\n"
          ]
        },
        {
          "output_type": "stream",
          "name": "stdout",
          "text": [
            "[Epoch 95/150] [Batch 218/219] [D loss: 1.5389] [G loss: 0.8124]\n"
          ]
        },
        {
          "output_type": "stream",
          "name": "stderr",
          "text": [
            "100%|██████████| 219/219 [00:13<00:00, 16.46it/s]\n"
          ]
        },
        {
          "output_type": "stream",
          "name": "stdout",
          "text": [
            "[Epoch 96/150] [Batch 218/219] [D loss: 1.7312] [G loss: 0.5008]\n"
          ]
        },
        {
          "output_type": "stream",
          "name": "stderr",
          "text": [
            "100%|██████████| 219/219 [00:13<00:00, 16.46it/s]\n"
          ]
        },
        {
          "output_type": "stream",
          "name": "stdout",
          "text": [
            "[Epoch 97/150] [Batch 218/219] [D loss: 1.6298] [G loss: 0.8730]\n"
          ]
        },
        {
          "output_type": "stream",
          "name": "stderr",
          "text": [
            "100%|██████████| 219/219 [00:13<00:00, 16.45it/s]\n"
          ]
        },
        {
          "output_type": "stream",
          "name": "stdout",
          "text": [
            "[Epoch 98/150] [Batch 218/219] [D loss: 1.3512] [G loss: 0.5441]\n"
          ]
        },
        {
          "output_type": "stream",
          "name": "stderr",
          "text": [
            "100%|██████████| 219/219 [00:13<00:00, 16.46it/s]\n"
          ]
        },
        {
          "output_type": "stream",
          "name": "stdout",
          "text": [
            "[Epoch 99/150] [Batch 218/219] [D loss: 1.7107] [G loss: 0.5007]\n"
          ]
        },
        {
          "output_type": "stream",
          "name": "stderr",
          "text": [
            "100%|██████████| 219/219 [00:13<00:00, 16.46it/s]\n"
          ]
        },
        {
          "output_type": "stream",
          "name": "stdout",
          "text": [
            "[Epoch 100/150] [Batch 218/219] [D loss: 1.1227] [G loss: 0.9124]\n"
          ]
        },
        {
          "output_type": "stream",
          "name": "stderr",
          "text": [
            "100%|██████████| 219/219 [00:13<00:00, 16.47it/s]\n"
          ]
        },
        {
          "output_type": "stream",
          "name": "stdout",
          "text": [
            "[Epoch 101/150] [Batch 218/219] [D loss: 1.3143] [G loss: 1.0959]\n"
          ]
        },
        {
          "output_type": "stream",
          "name": "stderr",
          "text": [
            "100%|██████████| 219/219 [00:13<00:00, 16.46it/s]\n"
          ]
        },
        {
          "output_type": "stream",
          "name": "stdout",
          "text": [
            "[Epoch 102/150] [Batch 218/219] [D loss: 1.2215] [G loss: 0.8258]\n"
          ]
        },
        {
          "output_type": "stream",
          "name": "stderr",
          "text": [
            "100%|██████████| 219/219 [00:13<00:00, 16.44it/s]\n"
          ]
        },
        {
          "output_type": "stream",
          "name": "stdout",
          "text": [
            "[Epoch 103/150] [Batch 218/219] [D loss: 2.1193] [G loss: 0.9495]\n"
          ]
        },
        {
          "output_type": "stream",
          "name": "stderr",
          "text": [
            "100%|██████████| 219/219 [00:13<00:00, 16.43it/s]\n"
          ]
        },
        {
          "output_type": "stream",
          "name": "stdout",
          "text": [
            "[Epoch 104/150] [Batch 218/219] [D loss: 1.4251] [G loss: 0.9153]\n"
          ]
        },
        {
          "output_type": "stream",
          "name": "stderr",
          "text": [
            "100%|██████████| 219/219 [00:13<00:00, 16.45it/s]\n"
          ]
        },
        {
          "output_type": "stream",
          "name": "stdout",
          "text": [
            "[Epoch 105/150] [Batch 218/219] [D loss: 1.4902] [G loss: 0.6032]\n"
          ]
        },
        {
          "output_type": "stream",
          "name": "stderr",
          "text": [
            "100%|██████████| 219/219 [00:13<00:00, 16.44it/s]\n"
          ]
        },
        {
          "output_type": "stream",
          "name": "stdout",
          "text": [
            "[Epoch 106/150] [Batch 218/219] [D loss: 1.4453] [G loss: 0.6544]\n"
          ]
        },
        {
          "output_type": "stream",
          "name": "stderr",
          "text": [
            "100%|██████████| 219/219 [00:13<00:00, 16.46it/s]\n"
          ]
        },
        {
          "output_type": "stream",
          "name": "stdout",
          "text": [
            "[Epoch 107/150] [Batch 218/219] [D loss: 1.2651] [G loss: 0.7986]\n"
          ]
        },
        {
          "output_type": "stream",
          "name": "stderr",
          "text": [
            "100%|██████████| 219/219 [00:13<00:00, 16.46it/s]\n"
          ]
        },
        {
          "output_type": "stream",
          "name": "stdout",
          "text": [
            "[Epoch 108/150] [Batch 218/219] [D loss: 1.4446] [G loss: 0.5848]\n"
          ]
        },
        {
          "output_type": "stream",
          "name": "stderr",
          "text": [
            "100%|██████████| 219/219 [00:13<00:00, 16.46it/s]\n"
          ]
        },
        {
          "output_type": "stream",
          "name": "stdout",
          "text": [
            "[Epoch 109/150] [Batch 218/219] [D loss: 0.8440] [G loss: 0.9261]\n"
          ]
        },
        {
          "output_type": "stream",
          "name": "stderr",
          "text": [
            "100%|██████████| 219/219 [00:13<00:00, 16.45it/s]\n"
          ]
        },
        {
          "output_type": "stream",
          "name": "stdout",
          "text": [
            "[Epoch 110/150] [Batch 218/219] [D loss: 2.2726] [G loss: 0.7144]\n"
          ]
        },
        {
          "output_type": "stream",
          "name": "stderr",
          "text": [
            "100%|██████████| 219/219 [00:13<00:00, 16.45it/s]\n"
          ]
        },
        {
          "output_type": "stream",
          "name": "stdout",
          "text": [
            "[Epoch 111/150] [Batch 218/219] [D loss: 1.0851] [G loss: 0.8351]\n"
          ]
        },
        {
          "output_type": "stream",
          "name": "stderr",
          "text": [
            "100%|██████████| 219/219 [00:13<00:00, 16.46it/s]\n"
          ]
        },
        {
          "output_type": "stream",
          "name": "stdout",
          "text": [
            "[Epoch 112/150] [Batch 218/219] [D loss: 1.2648] [G loss: 0.5744]\n"
          ]
        },
        {
          "output_type": "stream",
          "name": "stderr",
          "text": [
            "100%|██████████| 219/219 [00:13<00:00, 16.46it/s]\n"
          ]
        },
        {
          "output_type": "stream",
          "name": "stdout",
          "text": [
            "[Epoch 113/150] [Batch 218/219] [D loss: 1.3596] [G loss: 0.6999]\n"
          ]
        },
        {
          "output_type": "stream",
          "name": "stderr",
          "text": [
            "100%|██████████| 219/219 [00:13<00:00, 16.47it/s]\n"
          ]
        },
        {
          "output_type": "stream",
          "name": "stdout",
          "text": [
            "[Epoch 114/150] [Batch 218/219] [D loss: 1.2685] [G loss: 0.6375]\n"
          ]
        },
        {
          "output_type": "stream",
          "name": "stderr",
          "text": [
            "100%|██████████| 219/219 [00:13<00:00, 16.45it/s]\n"
          ]
        },
        {
          "output_type": "stream",
          "name": "stdout",
          "text": [
            "[Epoch 115/150] [Batch 218/219] [D loss: 1.2717] [G loss: 0.8139]\n"
          ]
        },
        {
          "output_type": "stream",
          "name": "stderr",
          "text": [
            "100%|██████████| 219/219 [00:13<00:00, 16.46it/s]\n"
          ]
        },
        {
          "output_type": "stream",
          "name": "stdout",
          "text": [
            "[Epoch 116/150] [Batch 218/219] [D loss: 1.1035] [G loss: 0.7461]\n"
          ]
        },
        {
          "output_type": "stream",
          "name": "stderr",
          "text": [
            "100%|██████████| 219/219 [00:13<00:00, 16.45it/s]\n"
          ]
        },
        {
          "output_type": "stream",
          "name": "stdout",
          "text": [
            "[Epoch 117/150] [Batch 218/219] [D loss: 0.8868] [G loss: 0.8009]\n"
          ]
        },
        {
          "output_type": "stream",
          "name": "stderr",
          "text": [
            "100%|██████████| 219/219 [00:13<00:00, 16.46it/s]\n"
          ]
        },
        {
          "output_type": "stream",
          "name": "stdout",
          "text": [
            "[Epoch 118/150] [Batch 218/219] [D loss: 1.1433] [G loss: 0.8148]\n"
          ]
        },
        {
          "output_type": "stream",
          "name": "stderr",
          "text": [
            "100%|██████████| 219/219 [00:13<00:00, 16.47it/s]\n"
          ]
        },
        {
          "output_type": "stream",
          "name": "stdout",
          "text": [
            "[Epoch 119/150] [Batch 218/219] [D loss: 1.4390] [G loss: 0.5364]\n"
          ]
        },
        {
          "output_type": "stream",
          "name": "stderr",
          "text": [
            "100%|██████████| 219/219 [00:13<00:00, 16.48it/s]\n"
          ]
        },
        {
          "output_type": "stream",
          "name": "stdout",
          "text": [
            "[Epoch 120/150] [Batch 218/219] [D loss: 1.5789] [G loss: 0.6223]\n"
          ]
        },
        {
          "output_type": "stream",
          "name": "stderr",
          "text": [
            "100%|██████████| 219/219 [00:13<00:00, 16.47it/s]\n"
          ]
        },
        {
          "output_type": "stream",
          "name": "stdout",
          "text": [
            "[Epoch 121/150] [Batch 218/219] [D loss: 4.9160] [G loss: 4.1438]\n"
          ]
        },
        {
          "output_type": "stream",
          "name": "stderr",
          "text": [
            "100%|██████████| 219/219 [00:13<00:00, 16.46it/s]\n"
          ]
        },
        {
          "output_type": "stream",
          "name": "stdout",
          "text": [
            "[Epoch 122/150] [Batch 218/219] [D loss: 1.4959] [G loss: 0.6208]\n"
          ]
        },
        {
          "output_type": "stream",
          "name": "stderr",
          "text": [
            "100%|██████████| 219/219 [00:13<00:00, 16.46it/s]\n"
          ]
        },
        {
          "output_type": "stream",
          "name": "stdout",
          "text": [
            "[Epoch 123/150] [Batch 218/219] [D loss: 1.5297] [G loss: 0.4690]\n"
          ]
        },
        {
          "output_type": "stream",
          "name": "stderr",
          "text": [
            "100%|██████████| 219/219 [00:13<00:00, 16.46it/s]\n"
          ]
        },
        {
          "output_type": "stream",
          "name": "stdout",
          "text": [
            "[Epoch 124/150] [Batch 218/219] [D loss: 1.1765] [G loss: 0.7570]\n"
          ]
        },
        {
          "output_type": "stream",
          "name": "stderr",
          "text": [
            "100%|██████████| 219/219 [00:13<00:00, 16.46it/s]\n"
          ]
        },
        {
          "output_type": "stream",
          "name": "stdout",
          "text": [
            "[Epoch 125/150] [Batch 218/219] [D loss: 1.1189] [G loss: 1.3556]\n"
          ]
        },
        {
          "output_type": "stream",
          "name": "stderr",
          "text": [
            "100%|██████████| 219/219 [00:13<00:00, 16.46it/s]\n"
          ]
        },
        {
          "output_type": "stream",
          "name": "stdout",
          "text": [
            "[Epoch 126/150] [Batch 218/219] [D loss: 2.0039] [G loss: 0.4798]\n"
          ]
        },
        {
          "output_type": "stream",
          "name": "stderr",
          "text": [
            "100%|██████████| 219/219 [00:13<00:00, 16.46it/s]\n"
          ]
        },
        {
          "output_type": "stream",
          "name": "stdout",
          "text": [
            "[Epoch 127/150] [Batch 218/219] [D loss: 1.4515] [G loss: 1.0458]\n"
          ]
        },
        {
          "output_type": "stream",
          "name": "stderr",
          "text": [
            "100%|██████████| 219/219 [00:13<00:00, 16.46it/s]\n"
          ]
        },
        {
          "output_type": "stream",
          "name": "stdout",
          "text": [
            "[Epoch 128/150] [Batch 218/219] [D loss: 0.9542] [G loss: 0.9626]\n"
          ]
        },
        {
          "output_type": "stream",
          "name": "stderr",
          "text": [
            "100%|██████████| 219/219 [00:13<00:00, 16.46it/s]\n"
          ]
        },
        {
          "output_type": "stream",
          "name": "stdout",
          "text": [
            "[Epoch 129/150] [Batch 218/219] [D loss: 1.4664] [G loss: 0.6001]\n"
          ]
        },
        {
          "output_type": "stream",
          "name": "stderr",
          "text": [
            "100%|██████████| 219/219 [00:13<00:00, 16.46it/s]\n"
          ]
        },
        {
          "output_type": "stream",
          "name": "stdout",
          "text": [
            "[Epoch 130/150] [Batch 218/219] [D loss: 1.8721] [G loss: 0.4699]\n"
          ]
        },
        {
          "output_type": "stream",
          "name": "stderr",
          "text": [
            "100%|██████████| 219/219 [00:13<00:00, 16.46it/s]\n"
          ]
        },
        {
          "output_type": "stream",
          "name": "stdout",
          "text": [
            "[Epoch 131/150] [Batch 218/219] [D loss: 1.1171] [G loss: 0.8207]\n"
          ]
        },
        {
          "output_type": "stream",
          "name": "stderr",
          "text": [
            "100%|██████████| 219/219 [00:13<00:00, 16.46it/s]\n"
          ]
        },
        {
          "output_type": "stream",
          "name": "stdout",
          "text": [
            "[Epoch 132/150] [Batch 218/219] [D loss: 1.5178] [G loss: 0.4201]\n"
          ]
        },
        {
          "output_type": "stream",
          "name": "stderr",
          "text": [
            "100%|██████████| 219/219 [00:13<00:00, 16.46it/s]\n"
          ]
        },
        {
          "output_type": "stream",
          "name": "stdout",
          "text": [
            "[Epoch 133/150] [Batch 218/219] [D loss: 1.3310] [G loss: 0.7251]\n"
          ]
        },
        {
          "output_type": "stream",
          "name": "stderr",
          "text": [
            "100%|██████████| 219/219 [00:13<00:00, 16.46it/s]\n"
          ]
        },
        {
          "output_type": "stream",
          "name": "stdout",
          "text": [
            "[Epoch 134/150] [Batch 218/219] [D loss: 1.4097] [G loss: 0.7443]\n"
          ]
        },
        {
          "output_type": "stream",
          "name": "stderr",
          "text": [
            "100%|██████████| 219/219 [00:13<00:00, 16.45it/s]\n"
          ]
        },
        {
          "output_type": "stream",
          "name": "stdout",
          "text": [
            "[Epoch 135/150] [Batch 218/219] [D loss: 0.9778] [G loss: 0.7448]\n"
          ]
        },
        {
          "output_type": "stream",
          "name": "stderr",
          "text": [
            "100%|██████████| 219/219 [00:13<00:00, 16.46it/s]\n"
          ]
        },
        {
          "output_type": "stream",
          "name": "stdout",
          "text": [
            "[Epoch 136/150] [Batch 218/219] [D loss: 1.5968] [G loss: 1.0791]\n"
          ]
        },
        {
          "output_type": "stream",
          "name": "stderr",
          "text": [
            "100%|██████████| 219/219 [00:13<00:00, 16.45it/s]\n"
          ]
        },
        {
          "output_type": "stream",
          "name": "stdout",
          "text": [
            "[Epoch 137/150] [Batch 218/219] [D loss: 0.8394] [G loss: 0.7806]\n"
          ]
        },
        {
          "output_type": "stream",
          "name": "stderr",
          "text": [
            "100%|██████████| 219/219 [00:13<00:00, 16.45it/s]\n"
          ]
        },
        {
          "output_type": "stream",
          "name": "stdout",
          "text": [
            "[Epoch 138/150] [Batch 218/219] [D loss: 1.3410] [G loss: 0.4405]\n"
          ]
        },
        {
          "output_type": "stream",
          "name": "stderr",
          "text": [
            "100%|██████████| 219/219 [00:13<00:00, 16.45it/s]\n"
          ]
        },
        {
          "output_type": "stream",
          "name": "stdout",
          "text": [
            "[Epoch 139/150] [Batch 218/219] [D loss: 1.6964] [G loss: 0.7408]\n"
          ]
        },
        {
          "output_type": "stream",
          "name": "stderr",
          "text": [
            "100%|██████████| 219/219 [00:13<00:00, 16.45it/s]\n"
          ]
        },
        {
          "output_type": "stream",
          "name": "stdout",
          "text": [
            "[Epoch 140/150] [Batch 218/219] [D loss: 1.6335] [G loss: 0.4476]\n"
          ]
        },
        {
          "output_type": "stream",
          "name": "stderr",
          "text": [
            "100%|██████████| 219/219 [00:13<00:00, 16.46it/s]\n"
          ]
        },
        {
          "output_type": "stream",
          "name": "stdout",
          "text": [
            "[Epoch 141/150] [Batch 218/219] [D loss: 1.5257] [G loss: 0.9122]\n"
          ]
        },
        {
          "output_type": "stream",
          "name": "stderr",
          "text": [
            "100%|██████████| 219/219 [00:13<00:00, 16.46it/s]\n"
          ]
        },
        {
          "output_type": "stream",
          "name": "stdout",
          "text": [
            "[Epoch 142/150] [Batch 218/219] [D loss: 1.2006] [G loss: 0.7471]\n"
          ]
        },
        {
          "output_type": "stream",
          "name": "stderr",
          "text": [
            "100%|██████████| 219/219 [00:13<00:00, 16.46it/s]\n"
          ]
        },
        {
          "output_type": "stream",
          "name": "stdout",
          "text": [
            "[Epoch 143/150] [Batch 218/219] [D loss: 0.7922] [G loss: 0.9382]\n"
          ]
        },
        {
          "output_type": "stream",
          "name": "stderr",
          "text": [
            "100%|██████████| 219/219 [00:13<00:00, 16.46it/s]\n"
          ]
        },
        {
          "output_type": "stream",
          "name": "stdout",
          "text": [
            "[Epoch 144/150] [Batch 218/219] [D loss: 1.7562] [G loss: 0.4915]\n"
          ]
        },
        {
          "output_type": "stream",
          "name": "stderr",
          "text": [
            "100%|██████████| 219/219 [00:13<00:00, 16.45it/s]\n"
          ]
        },
        {
          "output_type": "stream",
          "name": "stdout",
          "text": [
            "[Epoch 145/150] [Batch 218/219] [D loss: 1.2972] [G loss: 0.9327]\n"
          ]
        },
        {
          "output_type": "stream",
          "name": "stderr",
          "text": [
            "100%|██████████| 219/219 [00:13<00:00, 16.46it/s]\n"
          ]
        },
        {
          "output_type": "stream",
          "name": "stdout",
          "text": [
            "[Epoch 146/150] [Batch 218/219] [D loss: 1.4707] [G loss: 0.6529]\n"
          ]
        },
        {
          "output_type": "stream",
          "name": "stderr",
          "text": [
            "100%|██████████| 219/219 [00:13<00:00, 16.47it/s]\n"
          ]
        },
        {
          "output_type": "stream",
          "name": "stdout",
          "text": [
            "[Epoch 147/150] [Batch 218/219] [D loss: 1.4276] [G loss: 0.6737]\n"
          ]
        },
        {
          "output_type": "stream",
          "name": "stderr",
          "text": [
            "100%|██████████| 219/219 [00:13<00:00, 16.47it/s]\n"
          ]
        },
        {
          "output_type": "stream",
          "name": "stdout",
          "text": [
            "[Epoch 148/150] [Batch 218/219] [D loss: 1.4155] [G loss: 0.9525]\n"
          ]
        },
        {
          "output_type": "stream",
          "name": "stderr",
          "text": [
            "100%|██████████| 219/219 [00:13<00:00, 16.46it/s]\n"
          ]
        },
        {
          "output_type": "stream",
          "name": "stdout",
          "text": [
            "[Epoch 149/150] [Batch 218/219] [D loss: 0.5792] [G loss: 1.1121]\n"
          ]
        }
      ]
    },
    {
      "cell_type": "code",
      "source": [
        "!zip -r /content/acgan128_Atl_NoF_training.zip /content/acgan_images"
      ],
      "metadata": {
        "colab": {
          "base_uri": "https://localhost:8080/"
        },
        "id": "5HqNZrttLEOV",
        "outputId": "ca4fd62f-203c-4336-984c-1e7c4c344684",
        "collapsed": true
      },
      "execution_count": null,
      "outputs": [
        {
          "output_type": "stream",
          "name": "stdout",
          "text": [
            "  adding: content/acgan_images/ (stored 0%)\n",
            "  adding: content/acgan_images/Effusion/ (stored 0%)\n",
            "  adding: content/acgan_images/Effusion/epoch85_0.png (stored 0%)\n",
            "  adding: content/acgan_images/Effusion/epoch18_0.png (stored 0%)\n",
            "  adding: content/acgan_images/Effusion/epoch19_0.png (stored 0%)\n",
            "  adding: content/acgan_images/Effusion/epoch91_0.png (stored 0%)\n",
            "  adding: content/acgan_images/Effusion/epoch14_0.png (deflated 0%)\n",
            "  adding: content/acgan_images/Effusion/epoch16_0.png (deflated 0%)\n",
            "  adding: content/acgan_images/Effusion/epoch144_0.png (stored 0%)\n",
            "  adding: content/acgan_images/Effusion/epoch28_0.png (stored 0%)\n",
            "  adding: content/acgan_images/Effusion/epoch83_0.png (stored 0%)\n",
            "  adding: content/acgan_images/Effusion/epoch24_0.png (stored 0%)\n",
            "  adding: content/acgan_images/Effusion/epoch49_0.png (stored 0%)\n",
            "  adding: content/acgan_images/Effusion/epoch124_0.png (stored 0%)\n",
            "  adding: content/acgan_images/Effusion/epoch74_0.png (stored 0%)\n",
            "  adding: content/acgan_images/Effusion/epoch105_0.png (stored 0%)\n",
            "  adding: content/acgan_images/Effusion/epoch80_0.png (stored 0%)\n",
            "  adding: content/acgan_images/Effusion/epoch75_0.png (stored 0%)\n",
            "  adding: content/acgan_images/Effusion/epoch44_0.png (stored 0%)\n",
            "  adding: content/acgan_images/Effusion/epoch130_0.png (stored 0%)\n",
            "  adding: content/acgan_images/Effusion/epoch118_0.png (stored 0%)\n",
            "  adding: content/acgan_images/Effusion/epoch100_0.png (stored 0%)\n",
            "  adding: content/acgan_images/Effusion/epoch110_0.png (stored 0%)\n",
            "  adding: content/acgan_images/Effusion/epoch76_0.png (stored 0%)\n",
            "  adding: content/acgan_images/Effusion/epoch48_0.png (stored 0%)\n",
            "  adding: content/acgan_images/Effusion/epoch109_0.png (stored 0%)\n",
            "  adding: content/acgan_images/Effusion/epoch66_0.png (stored 0%)\n",
            "  adding: content/acgan_images/Effusion/epoch135_0.png (stored 0%)\n",
            "  adding: content/acgan_images/Effusion/epoch81_0.png (stored 0%)\n",
            "  adding: content/acgan_images/Effusion/epoch42_0.png (stored 0%)\n",
            "  adding: content/acgan_images/Effusion/epoch140_0.png (stored 0%)\n",
            "  adding: content/acgan_images/Effusion/epoch43_0.png (stored 0%)\n",
            "  adding: content/acgan_images/Effusion/epoch99_0.png (stored 0%)\n",
            "  adding: content/acgan_images/Effusion/epoch58_0.png (stored 0%)\n",
            "  adding: content/acgan_images/Effusion/epoch37_0.png (stored 0%)\n",
            "  adding: content/acgan_images/Effusion/epoch56_0.png (stored 0%)\n",
            "  adding: content/acgan_images/Effusion/epoch128_0.png (stored 0%)\n",
            "  adding: content/acgan_images/Effusion/epoch104_0.png (stored 0%)\n",
            "  adding: content/acgan_images/Effusion/epoch148_0.png (stored 0%)\n",
            "  adding: content/acgan_images/Effusion/epoch147_0.png (stored 0%)\n",
            "  adding: content/acgan_images/Effusion/epoch132_0.png (stored 0%)\n",
            "  adding: content/acgan_images/Effusion/epoch2_0.png (stored 0%)\n",
            "  adding: content/acgan_images/Effusion/epoch67_0.png (stored 0%)\n",
            "  adding: content/acgan_images/Effusion/epoch54_0.png (stored 0%)\n",
            "  adding: content/acgan_images/Effusion/epoch78_0.png (stored 0%)\n",
            "  adding: content/acgan_images/Effusion/epoch25_0.png (stored 0%)\n",
            "  adding: content/acgan_images/Effusion/epoch145_0.png (stored 0%)\n",
            "  adding: content/acgan_images/Effusion/epoch114_0.png (stored 0%)\n",
            "  adding: content/acgan_images/Effusion/epoch131_0.png (stored 0%)\n",
            "  adding: content/acgan_images/Effusion/epoch116_0.png (stored 0%)\n",
            "  adding: content/acgan_images/Effusion/epoch134_0.png (stored 0%)\n",
            "  adding: content/acgan_images/Effusion/epoch32_0.png (stored 0%)\n",
            "  adding: content/acgan_images/Effusion/epoch62_0.png (stored 0%)\n",
            "  adding: content/acgan_images/Effusion/epoch121_0.png (stored 0%)\n",
            "  adding: content/acgan_images/Effusion/epoch111_0.png (stored 0%)\n",
            "  adding: content/acgan_images/Effusion/epoch27_0.png (stored 0%)\n",
            "  adding: content/acgan_images/Effusion/epoch53_0.png (stored 0%)\n",
            "  adding: content/acgan_images/Effusion/epoch129_0.png (stored 0%)\n",
            "  adding: content/acgan_images/Effusion/epoch9_0.png (stored 0%)\n",
            "  adding: content/acgan_images/Effusion/epoch146_0.png (stored 0%)\n",
            "  adding: content/acgan_images/Effusion/epoch22_0.png (stored 0%)\n",
            "  adding: content/acgan_images/Effusion/epoch89_0.png (stored 0%)\n",
            "  adding: content/acgan_images/Effusion/epoch93_0.png (stored 0%)\n",
            "  adding: content/acgan_images/Effusion/epoch127_0.png (stored 0%)\n",
            "  adding: content/acgan_images/Effusion/epoch8_0.png (deflated 0%)\n",
            "  adding: content/acgan_images/Effusion/epoch123_0.png (stored 0%)\n",
            "  adding: content/acgan_images/Effusion/epoch57_0.png (stored 0%)\n",
            "  adding: content/acgan_images/Effusion/epoch33_0.png (stored 0%)\n",
            "  adding: content/acgan_images/Effusion/epoch122_0.png (stored 0%)\n",
            "  adding: content/acgan_images/Effusion/epoch143_0.png (stored 0%)\n",
            "  adding: content/acgan_images/Effusion/epoch106_0.png (stored 0%)\n",
            "  adding: content/acgan_images/Effusion/epoch95_0.png (stored 0%)\n",
            "  adding: content/acgan_images/Effusion/epoch86_0.png (stored 0%)\n",
            "  adding: content/acgan_images/Effusion/epoch52_0.png (stored 0%)\n",
            "  adding: content/acgan_images/Effusion/epoch84_0.png (stored 0%)\n",
            "  adding: content/acgan_images/Effusion/epoch133_0.png (stored 0%)\n",
            "  adding: content/acgan_images/Effusion/epoch108_0.png (stored 0%)\n",
            "  adding: content/acgan_images/Effusion/epoch65_0.png (stored 0%)\n",
            "  adding: content/acgan_images/Effusion/epoch72_0.png (stored 0%)\n",
            "  adding: content/acgan_images/Effusion/epoch40_0.png (stored 0%)\n",
            "  adding: content/acgan_images/Effusion/epoch63_0.png (stored 0%)\n",
            "  adding: content/acgan_images/Effusion/epoch68_0.png (stored 0%)\n",
            "  adding: content/acgan_images/Effusion/epoch87_0.png (stored 0%)\n",
            "  adding: content/acgan_images/Effusion/epoch47_0.png (stored 0%)\n",
            "  adding: content/acgan_images/Effusion/epoch97_0.png (stored 0%)\n",
            "  adding: content/acgan_images/Effusion/epoch6_0.png (stored 0%)\n",
            "  adding: content/acgan_images/Effusion/epoch112_0.png (stored 0%)\n",
            "  adding: content/acgan_images/Effusion/epoch36_0.png (stored 0%)\n",
            "  adding: content/acgan_images/Effusion/epoch29_0.png (stored 0%)\n",
            "  adding: content/acgan_images/Effusion/epoch136_0.png (stored 0%)\n",
            "  adding: content/acgan_images/Effusion/epoch119_0.png (stored 0%)\n",
            "  adding: content/acgan_images/Effusion/epoch12_0.png (deflated 0%)\n",
            "  adding: content/acgan_images/Effusion/epoch21_0.png (deflated 0%)\n",
            "  adding: content/acgan_images/Effusion/epoch92_0.png (stored 0%)\n",
            "  adding: content/acgan_images/Effusion/epoch88_0.png (stored 0%)\n",
            "  adding: content/acgan_images/Effusion/epoch125_0.png (stored 0%)\n",
            "  adding: content/acgan_images/Effusion/epoch41_0.png (stored 0%)\n",
            "  adding: content/acgan_images/Effusion/epoch5_0.png (stored 0%)\n",
            "  adding: content/acgan_images/Effusion/epoch107_0.png (stored 0%)\n",
            "  adding: content/acgan_images/Effusion/epoch45_0.png (stored 0%)\n",
            "  adding: content/acgan_images/Effusion/epoch102_0.png (stored 0%)\n",
            "  adding: content/acgan_images/Effusion/epoch4_0.png (stored 0%)\n",
            "  adding: content/acgan_images/Effusion/epoch50_0.png (stored 0%)\n",
            "  adding: content/acgan_images/Effusion/epoch61_0.png (stored 0%)\n",
            "  adding: content/acgan_images/Effusion/epoch142_0.png (stored 0%)\n",
            "  adding: content/acgan_images/Effusion/epoch7_0.png (stored 0%)\n",
            "  adding: content/acgan_images/Effusion/epoch96_0.png (stored 0%)\n",
            "  adding: content/acgan_images/Effusion/epoch82_0.png (stored 0%)\n",
            "  adding: content/acgan_images/Effusion/epoch30_0.png (stored 0%)\n",
            "  adding: content/acgan_images/Effusion/epoch3_0.png (stored 0%)\n",
            "  adding: content/acgan_images/Effusion/epoch10_0.png (deflated 0%)\n",
            "  adding: content/acgan_images/Effusion/epoch20_0.png (deflated 0%)\n",
            "  adding: content/acgan_images/Effusion/epoch15_0.png (deflated 0%)\n",
            "  adding: content/acgan_images/Effusion/epoch60_0.png (stored 0%)\n",
            "  adding: content/acgan_images/Effusion/epoch64_0.png (stored 0%)\n",
            "  adding: content/acgan_images/Effusion/epoch1_0.png (stored 0%)\n",
            "  adding: content/acgan_images/Effusion/epoch11_0.png (stored 0%)\n",
            "  adding: content/acgan_images/Effusion/epoch69_0.png (stored 0%)\n",
            "  adding: content/acgan_images/Effusion/epoch101_0.png (stored 0%)\n",
            "  adding: content/acgan_images/Effusion/epoch38_0.png (stored 0%)\n",
            "  adding: content/acgan_images/Effusion/epoch141_0.png (stored 0%)\n",
            "  adding: content/acgan_images/Effusion/epoch113_0.png (stored 0%)\n",
            "  adding: content/acgan_images/Effusion/epoch73_0.png (stored 0%)\n",
            "  adding: content/acgan_images/Effusion/epoch98_0.png (stored 0%)\n",
            "  adding: content/acgan_images/Effusion/epoch149_0.png (stored 0%)\n",
            "  adding: content/acgan_images/Effusion/epoch115_0.png (stored 0%)\n",
            "  adding: content/acgan_images/Effusion/epoch79_0.png (stored 0%)\n",
            "  adding: content/acgan_images/Effusion/epoch70_0.png (stored 0%)\n",
            "  adding: content/acgan_images/Effusion/epoch77_0.png (stored 0%)\n",
            "  adding: content/acgan_images/Effusion/epoch59_0.png (stored 0%)\n",
            "  adding: content/acgan_images/Effusion/epoch51_0.png (stored 0%)\n",
            "  adding: content/acgan_images/Effusion/epoch55_0.png (stored 0%)\n",
            "  adding: content/acgan_images/Effusion/epoch139_0.png (stored 0%)\n",
            "  adding: content/acgan_images/Effusion/epoch138_0.png (stored 0%)\n",
            "  adding: content/acgan_images/Effusion/epoch103_0.png (stored 0%)\n",
            "  adding: content/acgan_images/Effusion/epoch94_0.png (stored 0%)\n",
            "  adding: content/acgan_images/Effusion/epoch13_0.png (deflated 0%)\n",
            "  adding: content/acgan_images/Effusion/epoch46_0.png (stored 0%)\n",
            "  adding: content/acgan_images/Effusion/epoch17_0.png (deflated 0%)\n",
            "  adding: content/acgan_images/Effusion/epoch126_0.png (stored 0%)\n",
            "  adding: content/acgan_images/Effusion/epoch26_0.png (stored 0%)\n",
            "  adding: content/acgan_images/Effusion/epoch120_0.png (stored 0%)\n",
            "  adding: content/acgan_images/Effusion/epoch31_0.png (deflated 0%)\n",
            "  adding: content/acgan_images/Effusion/epoch39_0.png (stored 0%)\n",
            "  adding: content/acgan_images/Effusion/epoch137_0.png (stored 0%)\n",
            "  adding: content/acgan_images/Effusion/epoch0_0.png (stored 0%)\n",
            "  adding: content/acgan_images/Effusion/epoch23_0.png (deflated 0%)\n",
            "  adding: content/acgan_images/Effusion/epoch35_0.png (stored 0%)\n",
            "  adding: content/acgan_images/Effusion/epoch71_0.png (stored 0%)\n",
            "  adding: content/acgan_images/Effusion/epoch34_0.png (stored 0%)\n",
            "  adding: content/acgan_images/Effusion/epoch117_0.png (stored 0%)\n",
            "  adding: content/acgan_images/Effusion/epoch90_0.png (stored 0%)\n",
            "  adding: content/acgan_images/No Finding/ (stored 0%)\n",
            "  adding: content/acgan_images/No Finding/epoch85_0.png (stored 0%)\n",
            "  adding: content/acgan_images/No Finding/epoch18_0.png (deflated 0%)\n",
            "  adding: content/acgan_images/No Finding/epoch19_0.png (stored 0%)\n",
            "  adding: content/acgan_images/No Finding/epoch91_0.png (stored 0%)\n",
            "  adding: content/acgan_images/No Finding/epoch14_0.png (deflated 0%)\n",
            "  adding: content/acgan_images/No Finding/epoch16_0.png (deflated 0%)\n",
            "  adding: content/acgan_images/No Finding/epoch144_0.png (stored 0%)\n",
            "  adding: content/acgan_images/No Finding/epoch28_0.png (stored 0%)\n",
            "  adding: content/acgan_images/No Finding/epoch83_0.png (stored 0%)\n",
            "  adding: content/acgan_images/No Finding/epoch24_0.png (stored 0%)\n",
            "  adding: content/acgan_images/No Finding/epoch49_0.png (deflated 0%)\n",
            "  adding: content/acgan_images/No Finding/epoch124_0.png (stored 0%)\n",
            "  adding: content/acgan_images/No Finding/epoch74_0.png (stored 0%)\n",
            "  adding: content/acgan_images/No Finding/epoch105_0.png (stored 0%)\n",
            "  adding: content/acgan_images/No Finding/epoch80_0.png (stored 0%)\n",
            "  adding: content/acgan_images/No Finding/epoch75_0.png (stored 0%)\n",
            "  adding: content/acgan_images/No Finding/epoch44_0.png (deflated 0%)\n",
            "  adding: content/acgan_images/No Finding/epoch130_0.png (stored 0%)\n",
            "  adding: content/acgan_images/No Finding/epoch118_0.png (stored 0%)\n",
            "  adding: content/acgan_images/No Finding/epoch100_0.png (stored 0%)\n",
            "  adding: content/acgan_images/No Finding/epoch110_0.png (stored 0%)\n",
            "  adding: content/acgan_images/No Finding/epoch76_0.png (stored 0%)\n",
            "  adding: content/acgan_images/No Finding/epoch48_0.png (stored 0%)\n",
            "  adding: content/acgan_images/No Finding/epoch109_0.png (stored 0%)\n",
            "  adding: content/acgan_images/No Finding/epoch66_0.png (stored 0%)\n",
            "  adding: content/acgan_images/No Finding/epoch135_0.png (stored 0%)\n",
            "  adding: content/acgan_images/No Finding/epoch81_0.png (stored 0%)\n",
            "  adding: content/acgan_images/No Finding/epoch42_0.png (stored 0%)\n",
            "  adding: content/acgan_images/No Finding/epoch140_0.png (stored 0%)\n",
            "  adding: content/acgan_images/No Finding/epoch43_0.png (stored 0%)\n",
            "  adding: content/acgan_images/No Finding/epoch99_0.png (stored 0%)\n",
            "  adding: content/acgan_images/No Finding/epoch58_0.png (deflated 0%)\n",
            "  adding: content/acgan_images/No Finding/epoch37_0.png (deflated 0%)\n",
            "  adding: content/acgan_images/No Finding/epoch56_0.png (stored 0%)\n",
            "  adding: content/acgan_images/No Finding/epoch128_0.png (stored 0%)\n",
            "  adding: content/acgan_images/No Finding/epoch104_0.png (stored 0%)\n",
            "  adding: content/acgan_images/No Finding/epoch148_0.png (stored 0%)\n",
            "  adding: content/acgan_images/No Finding/epoch147_0.png (stored 0%)\n",
            "  adding: content/acgan_images/No Finding/epoch132_0.png (stored 0%)\n",
            "  adding: content/acgan_images/No Finding/epoch2_0.png (stored 0%)\n",
            "  adding: content/acgan_images/No Finding/epoch67_0.png (stored 0%)\n",
            "  adding: content/acgan_images/No Finding/epoch54_0.png (stored 0%)\n",
            "  adding: content/acgan_images/No Finding/epoch78_0.png (stored 0%)\n",
            "  adding: content/acgan_images/No Finding/epoch25_0.png (stored 0%)\n",
            "  adding: content/acgan_images/No Finding/epoch145_0.png (stored 0%)\n",
            "  adding: content/acgan_images/No Finding/epoch114_0.png (stored 0%)\n",
            "  adding: content/acgan_images/No Finding/epoch131_0.png (stored 0%)\n",
            "  adding: content/acgan_images/No Finding/epoch116_0.png (stored 0%)\n",
            "  adding: content/acgan_images/No Finding/epoch134_0.png (stored 0%)\n",
            "  adding: content/acgan_images/No Finding/epoch32_0.png (stored 0%)\n",
            "  adding: content/acgan_images/No Finding/epoch62_0.png (stored 0%)\n",
            "  adding: content/acgan_images/No Finding/epoch121_0.png (stored 0%)\n",
            "  adding: content/acgan_images/No Finding/epoch111_0.png (stored 0%)\n",
            "  adding: content/acgan_images/No Finding/epoch27_0.png (deflated 0%)\n",
            "  adding: content/acgan_images/No Finding/epoch53_0.png (stored 0%)\n",
            "  adding: content/acgan_images/No Finding/epoch129_0.png (stored 0%)\n",
            "  adding: content/acgan_images/No Finding/epoch9_0.png (deflated 0%)\n",
            "  adding: content/acgan_images/No Finding/epoch146_0.png (stored 0%)\n",
            "  adding: content/acgan_images/No Finding/epoch22_0.png (deflated 0%)\n",
            "  adding: content/acgan_images/No Finding/epoch89_0.png (stored 0%)\n",
            "  adding: content/acgan_images/No Finding/epoch93_0.png (stored 0%)\n",
            "  adding: content/acgan_images/No Finding/epoch127_0.png (stored 0%)\n",
            "  adding: content/acgan_images/No Finding/epoch8_0.png (deflated 0%)\n",
            "  adding: content/acgan_images/No Finding/epoch123_0.png (stored 0%)\n",
            "  adding: content/acgan_images/No Finding/epoch57_0.png (stored 0%)\n",
            "  adding: content/acgan_images/No Finding/epoch33_0.png (stored 0%)\n",
            "  adding: content/acgan_images/No Finding/epoch122_0.png (stored 0%)\n",
            "  adding: content/acgan_images/No Finding/epoch143_0.png (stored 0%)\n",
            "  adding: content/acgan_images/No Finding/epoch106_0.png (stored 0%)\n",
            "  adding: content/acgan_images/No Finding/epoch95_0.png (stored 0%)\n",
            "  adding: content/acgan_images/No Finding/epoch86_0.png (stored 0%)\n",
            "  adding: content/acgan_images/No Finding/epoch52_0.png (stored 0%)\n",
            "  adding: content/acgan_images/No Finding/epoch84_0.png (stored 0%)\n",
            "  adding: content/acgan_images/No Finding/epoch133_0.png (stored 0%)\n",
            "  adding: content/acgan_images/No Finding/epoch108_0.png (stored 0%)\n",
            "  adding: content/acgan_images/No Finding/epoch65_0.png (stored 0%)\n",
            "  adding: content/acgan_images/No Finding/epoch72_0.png (stored 0%)\n",
            "  adding: content/acgan_images/No Finding/epoch40_0.png (deflated 0%)\n",
            "  adding: content/acgan_images/No Finding/epoch63_0.png (stored 0%)\n",
            "  adding: content/acgan_images/No Finding/epoch68_0.png (stored 0%)\n",
            "  adding: content/acgan_images/No Finding/epoch87_0.png (stored 0%)\n",
            "  adding: content/acgan_images/No Finding/epoch47_0.png (stored 0%)\n",
            "  adding: content/acgan_images/No Finding/epoch97_0.png (stored 0%)\n",
            "  adding: content/acgan_images/No Finding/epoch6_0.png (stored 0%)\n",
            "  adding: content/acgan_images/No Finding/epoch112_0.png (stored 0%)\n",
            "  adding: content/acgan_images/No Finding/epoch36_0.png (stored 0%)\n",
            "  adding: content/acgan_images/No Finding/epoch29_0.png (stored 0%)\n",
            "  adding: content/acgan_images/No Finding/epoch136_0.png (stored 0%)\n",
            "  adding: content/acgan_images/No Finding/epoch119_0.png (stored 0%)\n",
            "  adding: content/acgan_images/No Finding/epoch12_0.png (deflated 0%)\n",
            "  adding: content/acgan_images/No Finding/epoch21_0.png (stored 0%)\n",
            "  adding: content/acgan_images/No Finding/epoch92_0.png (stored 0%)\n",
            "  adding: content/acgan_images/No Finding/epoch88_0.png (stored 0%)\n",
            "  adding: content/acgan_images/No Finding/epoch125_0.png (stored 0%)\n",
            "  adding: content/acgan_images/No Finding/epoch41_0.png (stored 0%)\n",
            "  adding: content/acgan_images/No Finding/epoch5_0.png (stored 0%)\n",
            "  adding: content/acgan_images/No Finding/epoch107_0.png (stored 0%)\n",
            "  adding: content/acgan_images/No Finding/epoch45_0.png (stored 0%)\n",
            "  adding: content/acgan_images/No Finding/epoch102_0.png (stored 0%)\n",
            "  adding: content/acgan_images/No Finding/epoch4_0.png (stored 0%)\n",
            "  adding: content/acgan_images/No Finding/epoch50_0.png (stored 0%)\n",
            "  adding: content/acgan_images/No Finding/epoch61_0.png (deflated 0%)\n",
            "  adding: content/acgan_images/No Finding/epoch142_0.png (stored 0%)\n",
            "  adding: content/acgan_images/No Finding/epoch7_0.png (stored 0%)\n",
            "  adding: content/acgan_images/No Finding/epoch96_0.png (stored 0%)\n",
            "  adding: content/acgan_images/No Finding/epoch82_0.png (stored 0%)\n",
            "  adding: content/acgan_images/No Finding/epoch30_0.png (stored 0%)\n",
            "  adding: content/acgan_images/No Finding/epoch3_0.png (stored 0%)\n",
            "  adding: content/acgan_images/No Finding/epoch10_0.png (deflated 0%)\n",
            "  adding: content/acgan_images/No Finding/epoch20_0.png (deflated 0%)\n",
            "  adding: content/acgan_images/No Finding/epoch15_0.png (deflated 0%)\n",
            "  adding: content/acgan_images/No Finding/epoch60_0.png (stored 0%)\n",
            "  adding: content/acgan_images/No Finding/epoch64_0.png (stored 0%)\n",
            "  adding: content/acgan_images/No Finding/epoch1_0.png (stored 0%)\n",
            "  adding: content/acgan_images/No Finding/epoch11_0.png (deflated 0%)\n",
            "  adding: content/acgan_images/No Finding/epoch69_0.png (stored 0%)\n",
            "  adding: content/acgan_images/No Finding/epoch101_0.png (stored 0%)\n",
            "  adding: content/acgan_images/No Finding/epoch38_0.png (stored 0%)\n",
            "  adding: content/acgan_images/No Finding/epoch141_0.png (stored 0%)\n",
            "  adding: content/acgan_images/No Finding/epoch113_0.png (stored 0%)\n",
            "  adding: content/acgan_images/No Finding/epoch73_0.png (stored 0%)\n",
            "  adding: content/acgan_images/No Finding/epoch98_0.png (stored 0%)\n",
            "  adding: content/acgan_images/No Finding/epoch149_0.png (stored 0%)\n",
            "  adding: content/acgan_images/No Finding/epoch115_0.png (stored 0%)\n",
            "  adding: content/acgan_images/No Finding/epoch79_0.png (stored 0%)\n",
            "  adding: content/acgan_images/No Finding/epoch70_0.png (stored 0%)\n",
            "  adding: content/acgan_images/No Finding/epoch77_0.png (stored 0%)\n",
            "  adding: content/acgan_images/No Finding/epoch59_0.png (stored 0%)\n",
            "  adding: content/acgan_images/No Finding/epoch51_0.png (stored 0%)\n",
            "  adding: content/acgan_images/No Finding/epoch55_0.png (deflated 0%)\n",
            "  adding: content/acgan_images/No Finding/epoch139_0.png (stored 0%)\n",
            "  adding: content/acgan_images/No Finding/epoch138_0.png (stored 0%)\n",
            "  adding: content/acgan_images/No Finding/epoch103_0.png (stored 0%)\n",
            "  adding: content/acgan_images/No Finding/epoch94_0.png (stored 0%)\n",
            "  adding: content/acgan_images/No Finding/epoch13_0.png (deflated 0%)\n",
            "  adding: content/acgan_images/No Finding/epoch46_0.png (stored 0%)\n",
            "  adding: content/acgan_images/No Finding/epoch17_0.png (deflated 0%)\n",
            "  adding: content/acgan_images/No Finding/epoch126_0.png (stored 0%)\n",
            "  adding: content/acgan_images/No Finding/epoch26_0.png (stored 0%)\n",
            "  adding: content/acgan_images/No Finding/epoch120_0.png (stored 0%)\n",
            "  adding: content/acgan_images/No Finding/epoch31_0.png (deflated 0%)\n",
            "  adding: content/acgan_images/No Finding/epoch39_0.png (deflated 0%)\n",
            "  adding: content/acgan_images/No Finding/epoch137_0.png (stored 0%)\n",
            "  adding: content/acgan_images/No Finding/epoch0_0.png (stored 0%)\n",
            "  adding: content/acgan_images/No Finding/epoch23_0.png (deflated 0%)\n",
            "  adding: content/acgan_images/No Finding/epoch35_0.png (deflated 0%)\n",
            "  adding: content/acgan_images/No Finding/epoch71_0.png (stored 0%)\n",
            "  adding: content/acgan_images/No Finding/epoch34_0.png (deflated 0%)\n",
            "  adding: content/acgan_images/No Finding/epoch117_0.png (stored 0%)\n",
            "  adding: content/acgan_images/No Finding/epoch90_0.png (stored 0%)\n"
          ]
        }
      ]
    },
    {
      "cell_type": "code",
      "source": [
        "plt.figure(figsize=(10, 6))\n",
        "plt.plot(g_losses, 'g-o', label=\"Generator Loss\", )\n",
        "plt.plot(d_losses, \"r-o\", label=\"Discriminator Loss\")\n",
        "plt.xlabel(\"Epoch\", fontsize=14)\n",
        "plt.ylabel(\"Loss\", fontsize=14)\n",
        "plt.legend(fontsize=16)\n",
        "plt.grid(True)\n",
        "plt.tight_layout()\n",
        "plt.xticks(np.arange(0, 150.1, 30))\n",
        "plt.yticks(np.arange(0, 3.1, 0.5))\n",
        "plt.savefig(\"acgan_training_losses.pdf\", format='pdf')\n",
        "plt.show()"
      ],
      "metadata": {
        "colab": {
          "base_uri": "https://localhost:8080/",
          "height": 607
        },
        "id": "bHJwXx_Gw_rA",
        "outputId": "7e106a5d-d974-4b33-dc4c-ed3178c91a62"
      },
      "execution_count": null,
      "outputs": [
        {
          "output_type": "display_data",
          "data": {
            "text/plain": [
              "<Figure size 1000x600 with 1 Axes>"
            ],
            "image/png": "[encoded data removed]"
          },
          "metadata": {}
        }
      ]
    },
    {
      "cell_type": "code",
      "source": [
        "# Save models\n",
        "torch.save(generator.state_dict(), \"generator.pth\")\n",
        "torch.save(discriminator.state_dict(), \"discriminator.pth\")"
      ],
      "metadata": {
        "id": "w1_kJx-jDqo6"
      },
      "execution_count": null,
      "outputs": []
    },
    {
      "cell_type": "markdown",
      "source": [
        "## Generate images"
      ],
      "metadata": {
        "id": "1579lfBBGUJC"
      }
    },
    {
      "cell_type": "code",
      "source": [
        "# Initialize generator (same architecture as during training)\n",
        "generator = Generator().to(device)\n",
        "generator.load_state_dict(torch.load(\"/content/generator.pth\"))\n",
        "generator.eval()  # Set to evaluation mode\n",
        "\n",
        "\n",
        "# Create output directories\n",
        "for val in fixed_class_order:\n",
        "  os.makedirs(f\"generated_images/train/{val}\", exist_ok=True)\n",
        "\n",
        "\n",
        "\n"
      ],
      "metadata": {
        "id": "csdQpAlhGTrX"
      },
      "execution_count": null,
      "outputs": []
    },
    {
      "cell_type": "code",
      "source": [
        "\n",
        "def generate_images(class_label, num_images, batch_size=64):\n",
        "    images_generated = 0\n",
        "    while images_generated < num_images:\n",
        "        # Calculate how many images to generate in this batch\n",
        "        current_batch_size = min(batch_size, num_images - images_generated)\n",
        "\n",
        "        # Generate noise and labels\n",
        "        z = torch.randn(current_batch_size, latent_dim, device=device)\n",
        "        labels = torch.full((current_batch_size,), class_label, dtype=torch.long, device=device)\n",
        "\n",
        "        # Generate images\n",
        "        with torch.no_grad():\n",
        "            gen_imgs = generator(z, labels)\n",
        "            #gen_imgs = (gen_imgs * 0.5) + 0.5  # Scale from [-1,1] to [0,1] if using tanh\n",
        "\n",
        "        # Save images\n",
        "        for i in range(current_batch_size):\n",
        "            img_np = gen_imgs[i].cpu().numpy().transpose(1, 2, 0) * 255  # CHW to HWC, [0,255]\n",
        "            img_np = img_np.astype(np.uint8)\n",
        "\n",
        "            img_pil = Image.fromarray(img_np)\n",
        "            img_path = os.path.join(\"generated_images/train\",\n",
        "                                  f\"{fixed_class_order[class_label]}\",\n",
        "                                  f\"gimg_{images_generated + i}.jpg\")  # Note .jpg extension\n",
        "\n",
        "            img_pil.save(img_path)\n",
        "\n",
        "        images_generated += current_batch_size\n",
        "    print(f\"Generated {images_generated} images for class {fixed_class_order[class_label]}\")"
      ],
      "metadata": {
        "id": "fhdjwjiWGqMw"
      },
      "execution_count": null,
      "outputs": []
    },
    {
      "cell_type": "code",
      "source": [
        "#for i in range(2):\n",
        "#  generate_images(class_label=i, num_images=1000)\n",
        "\n",
        "generate_images(class_label=0, num_images=4023) # 4023 Eff\n",
        "generate_images(class_label=1, num_images=1000) # 1000 Nof\n",
        "\n",
        "print(\"All images generated successfully!\")"
      ],
      "metadata": {
        "colab": {
          "base_uri": "https://localhost:8080/"
        },
        "id": "YpW3paueGrAx",
        "outputId": "4b4c4708-9e6d-4a5b-d351-9111ea4ae4e4",
        "collapsed": true
      },
      "execution_count": null,
      "outputs": [
        {
          "output_type": "stream",
          "name": "stdout",
          "text": [
            "Generated 4023 images for class Effusion\n",
            "Generated 1000 images for class No Finding\n",
            "All images generated successfully!\n"
          ]
        }
      ]
    },
    {
      "cell_type": "code",
      "source": [
        "\n",
        "shutil.rmtree('generated_images')\n",
        "shutil.rmtree('classification_gan')"
      ],
      "metadata": {
        "id": "gFp4UbY1LyAq"
      },
      "execution_count": null,
      "outputs": []
    },
    {
      "cell_type": "markdown",
      "source": [
        "## Data prepatation"
      ],
      "metadata": {
        "id": "qp32-FwMXkJA"
      }
    },
    {
      "cell_type": "code",
      "source": [
        "\n",
        "def combine_datasets(split_images_dir, target_dir, selected_classes, processed_data_dir=None):\n",
        "    \"\"\"\n",
        "    Combines train images from SplitImages and ProcessedData into single train directory,\n",
        "    while preserving test/validation from SplitImages\n",
        "\n",
        "    Args:\n",
        "        split_images_dir: Path to SplitImages directory\n",
        "        processed_data_dir: Path to ProcessedData directory (can be None)\n",
        "        target_dir: Path where combined data will be saved\n",
        "        selected_classes: List of class names to include\n",
        "    \"\"\"\n",
        "    # Create target directory structure\n",
        "    splits = ['train', 'val']\n",
        "\n",
        "    for split in splits:\n",
        "        for class_name in selected_classes:\n",
        "            os.makedirs(os.path.join(target_dir, split, class_name), exist_ok=True)\n",
        "\n",
        "    print(f\"Combining data for classes: {', '.join(selected_classes)}\")\n",
        "\n",
        "    # 1. First copy all SplitImages data (train/test/validation)\n",
        "    for split in ['train', 'val']:\n",
        "        src_split_dir = os.path.join(split_images_dir, split)\n",
        "        if not os.path.exists(src_split_dir):\n",
        "            continue\n",
        "\n",
        "        for class_name in tqdm(selected_classes, desc=f\"Copying from SplitImages/{split}\"):\n",
        "            src_class_dir = os.path.join(src_split_dir, class_name)\n",
        "            if not os.path.exists(src_class_dir):\n",
        "                continue\n",
        "\n",
        "            dst_class_dir = os.path.join(target_dir, split, class_name)\n",
        "\n",
        "            for filename in os.listdir(src_class_dir):\n",
        "                src_path = os.path.join(src_class_dir, filename)\n",
        "                dst_path = os.path.join(dst_class_dir, filename)\n",
        "\n",
        "                # Handle filename conflicts\n",
        "                if os.path.exists(dst_path):\n",
        "                    base, ext = os.path.splitext(filename)\n",
        "                    counter = 1\n",
        "                    while os.path.exists(dst_path):\n",
        "                        new_filename = f\"{base}_{counter}{ext}\"\n",
        "                        dst_path = os.path.join(dst_class_dir, new_filename)\n",
        "                        counter += 1\n",
        "\n",
        "                shutil.copy2(src_path, dst_path)\n",
        "\n",
        "    # 2. Then merge ProcessedData train into target train (if provided)\n",
        "    if processed_data_dir:\n",
        "        src_processed_dir = os.path.join(processed_data_dir, 'train')\n",
        "        dst_train_dir = os.path.join(target_dir, 'train')\n",
        "\n",
        "        for class_name in tqdm(selected_classes, desc=\"Merging ProcessedData/train\"):\n",
        "            src_class_dir = os.path.join(src_processed_dir, class_name)\n",
        "            if not os.path.exists(src_class_dir):\n",
        "                continue\n",
        "\n",
        "            dst_class_dir = os.path.join(dst_train_dir, class_name)\n",
        "\n",
        "            for filename in os.listdir(src_class_dir):\n",
        "                src_path = os.path.join(src_class_dir, filename)\n",
        "                dst_path = os.path.join(dst_class_dir, filename)\n",
        "\n",
        "                # Handle filename conflicts\n",
        "                if os.path.exists(dst_path):\n",
        "                    base, ext = os.path.splitext(filename)\n",
        "                    counter = 1\n",
        "                    while os.path.exists(dst_path):\n",
        "                        new_filename = f\"{base}_{counter}{ext}\"\n",
        "                        dst_path = os.path.join(dst_class_dir, new_filename)\n",
        "                        counter += 1\n",
        "\n",
        "                shutil.copy2(src_path, dst_path)"
      ],
      "metadata": {
        "id": "OZG6stq1XqMR"
      },
      "execution_count": null,
      "outputs": []
    },
    {
      "cell_type": "code",
      "source": [
        "combine_datasets(split_images_dir=\"/content/SplitData_all\", processed_data_dir='/content/generated_images', target_dir='/content/classification_gan', selected_classes=[x for x in fixed_class_order])"
      ],
      "metadata": {
        "colab": {
          "base_uri": "https://localhost:8080/"
        },
        "id": "fPYWBv1acEhb",
        "outputId": "2ddb6205-37fa-4eb9-f680-375ed65ae837"
      },
      "execution_count": null,
      "outputs": [
        {
          "output_type": "stream",
          "name": "stdout",
          "text": [
            "Combining data for classes: Effusion, No Finding\n"
          ]
        },
        {
          "output_type": "stream",
          "name": "stderr",
          "text": [
            "Copying from SplitImages/train: 100%|██████████| 2/2 [00:00<00:00,  2.95it/s]\n",
            "Copying from SplitImages/val: 100%|██████████| 2/2 [00:00<00:00,  2.98it/s]\n",
            "Merging ProcessedData/train: 100%|██████████| 2/2 [00:00<00:00,  4.11it/s]\n"
          ]
        }
      ]
    },
    {
      "cell_type": "code",
      "source": [
        "combine_datasets(split_images_dir=\"/content/SplitData_all\", target_dir='/content/classification_unchanged', selected_classes=[x for x in fixed_class_order])"
      ],
      "metadata": {
        "colab": {
          "base_uri": "https://localhost:8080/"
        },
        "id": "biunYSR3kQ-w",
        "outputId": "d8461852-254c-4d21-f701-22db2f947ffd"
      },
      "execution_count": null,
      "outputs": [
        {
          "output_type": "stream",
          "name": "stdout",
          "text": [
            "Combining data for classes: Effusion, No Finding\n"
          ]
        },
        {
          "output_type": "stream",
          "name": "stderr",
          "text": [
            "Copying from SplitImages/train: 100%|██████████| 2/2 [00:00<00:00,  3.00it/s]\n",
            "Copying from SplitImages/val: 100%|██████████| 2/2 [00:00<00:00,  3.03it/s]\n"
          ]
        }
      ]
    },
    {
      "cell_type": "markdown",
      "source": [
        "## Classification"
      ],
      "metadata": {
        "id": "P87id6I-dL3g"
      }
    },
    {
      "cell_type": "markdown",
      "source": [
        "### Pre-trained"
      ],
      "metadata": {
        "id": "mkCo5L-t9_Iw"
      }
    },
    {
      "cell_type": "code",
      "source": [
        "IMG_SIZE = (128, 128)\n",
        "BATCH_SIZE = 64\n",
        "NUM_CLASSES = len(fixed_class_order)\n",
        "EPOCHS = 30"
      ],
      "metadata": {
        "id": "4Np6FcGgfIYq"
      },
      "execution_count": null,
      "outputs": []
    },
    {
      "cell_type": "code",
      "source": [
        "\n",
        "\n",
        "train_dataset = tf.keras.preprocessing.image_dataset_from_directory(\n",
        "    \"/content/SplitData_all/train\",\n",
        "    image_size=IMG_SIZE,\n",
        "    batch_size=BATCH_SIZE,\n",
        "    label_mode=\"binary\",\n",
        "    class_names=fixed_class_order\n",
        ")\n",
        "\n",
        "val_dataset = tf.keras.preprocessing.image_dataset_from_directory(\n",
        "    \"/content/SplitData_all/val\",\n",
        "    image_size=IMG_SIZE,\n",
        "    batch_size=BATCH_SIZE,\n",
        "    label_mode=\"binary\",\n",
        "    class_names=fixed_class_order\n",
        ")"
      ],
      "metadata": {
        "colab": {
          "base_uri": "https://localhost:8080/"
        },
        "id": "IPERcRifdvM-",
        "outputId": "9be5f53d-8e75-43bd-ab4f-53b2667e0cfa"
      },
      "execution_count": null,
      "outputs": [
        {
          "output_type": "stream",
          "name": "stdout",
          "text": [
            "Found 6977 files belonging to 2 classes.\n",
            "Found 6978 files belonging to 2 classes.\n"
          ]
        }
      ]
    },
    {
      "cell_type": "code",
      "source": [
        "class_names = train_dataset.class_names\n",
        "print(\"Class mapping:\", dict(enumerate(class_names)))"
      ],
      "metadata": {
        "colab": {
          "base_uri": "https://localhost:8080/"
        },
        "id": "Bo1ibtm5NGId",
        "outputId": "e43f8eec-41af-4fa3-a08d-a8f2bc620475"
      },
      "execution_count": null,
      "outputs": [
        {
          "output_type": "stream",
          "name": "stdout",
          "text": [
            "Class mapping: {0: 'Effusion', 1: 'No Finding'}\n"
          ]
        }
      ]
    },
    {
      "cell_type": "code",
      "source": [
        "train_dataset_generated = tf.keras.preprocessing.image_dataset_from_directory(\n",
        "    \"/content/classification_gan/train\",\n",
        "    image_size=IMG_SIZE,\n",
        "    batch_size=BATCH_SIZE,\n",
        "    label_mode=\"binary\",\n",
        "    class_names=fixed_class_order\n",
        ")"
      ],
      "metadata": {
        "colab": {
          "base_uri": "https://localhost:8080/"
        },
        "id": "dirW_gAYgB_o",
        "outputId": "51bf6671-fd04-49b6-bf83-4eb75dd0f0b3"
      },
      "execution_count": null,
      "outputs": [
        {
          "output_type": "stream",
          "name": "stdout",
          "text": [
            "Found 12000 files belonging to 2 classes.\n"
          ]
        }
      ]
    },
    {
      "cell_type": "markdown",
      "source": [
        "### Simple CNN architecture"
      ],
      "metadata": {
        "id": "Lzu5PmYY-Ik9"
      }
    },
    {
      "cell_type": "code",
      "source": [
        "model = models.Sequential()\n",
        "model.add(layers.Rescaling(1./255, input_shape=(128, 128, 3)))\n",
        "\n",
        "model.add(layers.Conv2D(filters=32, kernel_size=(3, 3), activation='relu'))\n",
        "model.add(layers.MaxPooling2D((2, 2)))\n",
        "\n",
        "model.add(layers.Conv2D(filters=64, kernel_size=(3, 3), activation='relu'))\n",
        "model.add(layers.MaxPooling2D((2, 2)))\n",
        "\n",
        "model.add(layers.Conv2D(filters=128, kernel_size=(3, 3), activation='relu'))\n",
        "model.add(layers.MaxPooling2D((2, 2)))\n",
        "\n",
        "model.add(layers.Conv2D(filters=128, kernel_size=(3, 3), activation='relu'))\n",
        "model.add(layers.MaxPooling2D((2, 2)))\n",
        "\n",
        "model.add(layers.Flatten())\n",
        "model.add(layers.Dense(512, activation='relu'))\n",
        "model.add(layers.Dense(1, activation='sigmoid'))\n"
      ],
      "metadata": {
        "id": "C2OTbC5r-FCc",
        "colab": {
          "base_uri": "https://localhost:8080/"
        },
        "outputId": "45c6179c-6dc1-47eb-9da7-9e35ef58ce7f"
      },
      "execution_count": null,
      "outputs": [
        {
          "output_type": "stream",
          "name": "stderr",
          "text": [
            "/usr/local/lib/python3.11/dist-packages/keras/src/layers/preprocessing/tf_data_layer.py:19: UserWarning: Do not pass an `input_shape`/`input_dim` argument to a layer. When using Sequential models, prefer using an `Input(shape)` object as the first layer in the model instead.\n",
            "  super().__init__(**kwargs)\n"
          ]
        }
      ]
    },
    {
      "cell_type": "code",
      "source": [
        "model.build()\n",
        "model.summary()"
      ],
      "metadata": {
        "colab": {
          "base_uri": "https://localhost:8080/",
          "height": 561
        },
        "id": "CdByMES7_Rky",
        "outputId": "b20d950b-e90d-46d6-f185-fb8479f48617"
      },
      "execution_count": null,
      "outputs": [
        {
          "output_type": "display_data",
          "data": {
            "text/plain": [
              "\u001b[1mModel: \"sequential\"\u001b[0m\n"
            ],
            "text/html": [
              "<pre style=\"white-space:pre;overflow-x:auto;line-height:normal;font-family:Menlo,'DejaVu Sans Mono',consolas,'Courier New',monospace\"><span style=\"font-weight: bold\">Model: \"sequential\"</span>\n",
              "</pre>\n"
            ]
          },
          "metadata": {}
        },
        {
          "output_type": "display_data",
          "data": {
            "text/plain": [
              "┏━━━━━━━━━━━━━━━━━━━━━━━━━━━━━━━━━┳━━━━━━━━━━━━━━━━━━━━━━━━┳━━━━━━━━━━━━━━━┓\n",
              "┃\u001b[1m \u001b[0m\u001b[1mLayer (type)                   \u001b[0m\u001b[1m \u001b[0m┃\u001b[1m \u001b[0m\u001b[1mOutput Shape          \u001b[0m\u001b[1m \u001b[0m┃\u001b[1m \u001b[0m\u001b[1m      Param #\u001b[0m\u001b[1m \u001b[0m┃\n",
              "┡━━━━━━━━━━━━━━━━━━━━━━━━━━━━━━━━━╇━━━━━━━━━━━━━━━━━━━━━━━━╇━━━━━━━━━━━━━━━┩\n",
              "│ rescaling (\u001b[38;5;33mRescaling\u001b[0m)           │ (\u001b[38;5;45mNone\u001b[0m, \u001b[38;5;34m128\u001b[0m, \u001b[38;5;34m128\u001b[0m, \u001b[38;5;34m3\u001b[0m)    │             \u001b[38;5;34m0\u001b[0m │\n",
              "├─────────────────────────────────┼────────────────────────┼───────────────┤\n",
              "│ conv2d (\u001b[38;5;33mConv2D\u001b[0m)                 │ (\u001b[38;5;45mNone\u001b[0m, \u001b[38;5;34m126\u001b[0m, \u001b[38;5;34m126\u001b[0m, \u001b[38;5;34m32\u001b[0m)   │           \u001b[38;5;34m896\u001b[0m │\n",
              "├─────────────────────────────────┼────────────────────────┼───────────────┤\n",
              "│ max_pooling2d (\u001b[38;5;33mMaxPooling2D\u001b[0m)    │ (\u001b[38;5;45mNone\u001b[0m, \u001b[38;5;34m63\u001b[0m, \u001b[38;5;34m63\u001b[0m, \u001b[38;5;34m32\u001b[0m)     │             \u001b[38;5;34m0\u001b[0m │\n",
              "├─────────────────────────────────┼────────────────────────┼───────────────┤\n",
              "│ conv2d_1 (\u001b[38;5;33mConv2D\u001b[0m)               │ (\u001b[38;5;45mNone\u001b[0m, \u001b[38;5;34m61\u001b[0m, \u001b[38;5;34m61\u001b[0m, \u001b[38;5;34m64\u001b[0m)     │        \u001b[38;5;34m18,496\u001b[0m │\n",
              "├─────────────────────────────────┼────────────────────────┼───────────────┤\n",
              "│ max_pooling2d_1 (\u001b[38;5;33mMaxPooling2D\u001b[0m)  │ (\u001b[38;5;45mNone\u001b[0m, \u001b[38;5;34m30\u001b[0m, \u001b[38;5;34m30\u001b[0m, \u001b[38;5;34m64\u001b[0m)     │             \u001b[38;5;34m0\u001b[0m │\n",
              "├─────────────────────────────────┼────────────────────────┼───────────────┤\n",
              "│ conv2d_2 (\u001b[38;5;33mConv2D\u001b[0m)               │ (\u001b[38;5;45mNone\u001b[0m, \u001b[38;5;34m28\u001b[0m, \u001b[38;5;34m28\u001b[0m, \u001b[38;5;34m128\u001b[0m)    │        \u001b[38;5;34m73,856\u001b[0m │\n",
              "├─────────────────────────────────┼────────────────────────┼───────────────┤\n",
              "│ max_pooling2d_2 (\u001b[38;5;33mMaxPooling2D\u001b[0m)  │ (\u001b[38;5;45mNone\u001b[0m, \u001b[38;5;34m14\u001b[0m, \u001b[38;5;34m14\u001b[0m, \u001b[38;5;34m128\u001b[0m)    │             \u001b[38;5;34m0\u001b[0m │\n",
              "├─────────────────────────────────┼────────────────────────┼───────────────┤\n",
              "│ conv2d_3 (\u001b[38;5;33mConv2D\u001b[0m)               │ (\u001b[38;5;45mNone\u001b[0m, \u001b[38;5;34m12\u001b[0m, \u001b[38;5;34m12\u001b[0m, \u001b[38;5;34m128\u001b[0m)    │       \u001b[38;5;34m147,584\u001b[0m │\n",
              "├─────────────────────────────────┼────────────────────────┼───────────────┤\n",
              "│ max_pooling2d_3 (\u001b[38;5;33mMaxPooling2D\u001b[0m)  │ (\u001b[38;5;45mNone\u001b[0m, \u001b[38;5;34m6\u001b[0m, \u001b[38;5;34m6\u001b[0m, \u001b[38;5;34m128\u001b[0m)      │             \u001b[38;5;34m0\u001b[0m │\n",
              "├─────────────────────────────────┼────────────────────────┼───────────────┤\n",
              "│ flatten (\u001b[38;5;33mFlatten\u001b[0m)               │ (\u001b[38;5;45mNone\u001b[0m, \u001b[38;5;34m4608\u001b[0m)           │             \u001b[38;5;34m0\u001b[0m │\n",
              "├─────────────────────────────────┼────────────────────────┼───────────────┤\n",
              "│ dense (\u001b[38;5;33mDense\u001b[0m)                   │ (\u001b[38;5;45mNone\u001b[0m, \u001b[38;5;34m512\u001b[0m)            │     \u001b[38;5;34m2,359,808\u001b[0m │\n",
              "├─────────────────────────────────┼────────────────────────┼───────────────┤\n",
              "│ dense_1 (\u001b[38;5;33mDense\u001b[0m)                 │ (\u001b[38;5;45mNone\u001b[0m, \u001b[38;5;34m1\u001b[0m)              │           \u001b[38;5;34m513\u001b[0m │\n",
              "└─────────────────────────────────┴────────────────────────┴───────────────┘\n"
            ],
            "text/html": [
              "<pre style=\"white-space:pre;overflow-x:auto;line-height:normal;font-family:Menlo,'DejaVu Sans Mono',consolas,'Courier New',monospace\">┏━━━━━━━━━━━━━━━━━━━━━━━━━━━━━━━━━┳━━━━━━━━━━━━━━━━━━━━━━━━┳━━━━━━━━━━━━━━━┓\n",
              "┃<span style=\"font-weight: bold\"> Layer (type)                    </span>┃<span style=\"font-weight: bold\"> Output Shape           </span>┃<span style=\"font-weight: bold\">       Param # </span>┃\n",
              "┡━━━━━━━━━━━━━━━━━━━━━━━━━━━━━━━━━╇━━━━━━━━━━━━━━━━━━━━━━━━╇━━━━━━━━━━━━━━━┩\n",
              "│ rescaling (<span style=\"color: #0087ff; text-decoration-color: #0087ff\">Rescaling</span>)           │ (<span style=\"color: #00d7ff; text-decoration-color: #00d7ff\">None</span>, <span style=\"color: #00af00; text-decoration-color: #00af00\">128</span>, <span style=\"color: #00af00; text-decoration-color: #00af00\">128</span>, <span style=\"color: #00af00; text-decoration-color: #00af00\">3</span>)    │             <span style=\"color: #00af00; text-decoration-color: #00af00\">0</span> │\n",
              "├─────────────────────────────────┼────────────────────────┼───────────────┤\n",
              "│ conv2d (<span style=\"color: #0087ff; text-decoration-color: #0087ff\">Conv2D</span>)                 │ (<span style=\"color: #00d7ff; text-decoration-color: #00d7ff\">None</span>, <span style=\"color: #00af00; text-decoration-color: #00af00\">126</span>, <span style=\"color: #00af00; text-decoration-color: #00af00\">126</span>, <span style=\"color: #00af00; text-decoration-color: #00af00\">32</span>)   │           <span style=\"color: #00af00; text-decoration-color: #00af00\">896</span> │\n",
              "├─────────────────────────────────┼────────────────────────┼───────────────┤\n",
              "│ max_pooling2d (<span style=\"color: #0087ff; text-decoration-color: #0087ff\">MaxPooling2D</span>)    │ (<span style=\"color: #00d7ff; text-decoration-color: #00d7ff\">None</span>, <span style=\"color: #00af00; text-decoration-color: #00af00\">63</span>, <span style=\"color: #00af00; text-decoration-color: #00af00\">63</span>, <span style=\"color: #00af00; text-decoration-color: #00af00\">32</span>)     │             <span style=\"color: #00af00; text-decoration-color: #00af00\">0</span> │\n",
              "├─────────────────────────────────┼────────────────────────┼───────────────┤\n",
              "│ conv2d_1 (<span style=\"color: #0087ff; text-decoration-color: #0087ff\">Conv2D</span>)               │ (<span style=\"color: #00d7ff; text-decoration-color: #00d7ff\">None</span>, <span style=\"color: #00af00; text-decoration-color: #00af00\">61</span>, <span style=\"color: #00af00; text-decoration-color: #00af00\">61</span>, <span style=\"color: #00af00; text-decoration-color: #00af00\">64</span>)     │        <span style=\"color: #00af00; text-decoration-color: #00af00\">18,496</span> │\n",
              "├─────────────────────────────────┼────────────────────────┼───────────────┤\n",
              "│ max_pooling2d_1 (<span style=\"color: #0087ff; text-decoration-color: #0087ff\">MaxPooling2D</span>)  │ (<span style=\"color: #00d7ff; text-decoration-color: #00d7ff\">None</span>, <span style=\"color: #00af00; text-decoration-color: #00af00\">30</span>, <span style=\"color: #00af00; text-decoration-color: #00af00\">30</span>, <span style=\"color: #00af00; text-decoration-color: #00af00\">64</span>)     │             <span style=\"color: #00af00; text-decoration-color: #00af00\">0</span> │\n",
              "├─────────────────────────────────┼────────────────────────┼───────────────┤\n",
              "│ conv2d_2 (<span style=\"color: #0087ff; text-decoration-color: #0087ff\">Conv2D</span>)               │ (<span style=\"color: #00d7ff; text-decoration-color: #00d7ff\">None</span>, <span style=\"color: #00af00; text-decoration-color: #00af00\">28</span>, <span style=\"color: #00af00; text-decoration-color: #00af00\">28</span>, <span style=\"color: #00af00; text-decoration-color: #00af00\">128</span>)    │        <span style=\"color: #00af00; text-decoration-color: #00af00\">73,856</span> │\n",
              "├─────────────────────────────────┼────────────────────────┼───────────────┤\n",
              "│ max_pooling2d_2 (<span style=\"color: #0087ff; text-decoration-color: #0087ff\">MaxPooling2D</span>)  │ (<span style=\"color: #00d7ff; text-decoration-color: #00d7ff\">None</span>, <span style=\"color: #00af00; text-decoration-color: #00af00\">14</span>, <span style=\"color: #00af00; text-decoration-color: #00af00\">14</span>, <span style=\"color: #00af00; text-decoration-color: #00af00\">128</span>)    │             <span style=\"color: #00af00; text-decoration-color: #00af00\">0</span> │\n",
              "├─────────────────────────────────┼────────────────────────┼───────────────┤\n",
              "│ conv2d_3 (<span style=\"color: #0087ff; text-decoration-color: #0087ff\">Conv2D</span>)               │ (<span style=\"color: #00d7ff; text-decoration-color: #00d7ff\">None</span>, <span style=\"color: #00af00; text-decoration-color: #00af00\">12</span>, <span style=\"color: #00af00; text-decoration-color: #00af00\">12</span>, <span style=\"color: #00af00; text-decoration-color: #00af00\">128</span>)    │       <span style=\"color: #00af00; text-decoration-color: #00af00\">147,584</span> │\n",
              "├─────────────────────────────────┼────────────────────────┼───────────────┤\n",
              "│ max_pooling2d_3 (<span style=\"color: #0087ff; text-decoration-color: #0087ff\">MaxPooling2D</span>)  │ (<span style=\"color: #00d7ff; text-decoration-color: #00d7ff\">None</span>, <span style=\"color: #00af00; text-decoration-color: #00af00\">6</span>, <span style=\"color: #00af00; text-decoration-color: #00af00\">6</span>, <span style=\"color: #00af00; text-decoration-color: #00af00\">128</span>)      │             <span style=\"color: #00af00; text-decoration-color: #00af00\">0</span> │\n",
              "├─────────────────────────────────┼────────────────────────┼───────────────┤\n",
              "│ flatten (<span style=\"color: #0087ff; text-decoration-color: #0087ff\">Flatten</span>)               │ (<span style=\"color: #00d7ff; text-decoration-color: #00d7ff\">None</span>, <span style=\"color: #00af00; text-decoration-color: #00af00\">4608</span>)           │             <span style=\"color: #00af00; text-decoration-color: #00af00\">0</span> │\n",
              "├─────────────────────────────────┼────────────────────────┼───────────────┤\n",
              "│ dense (<span style=\"color: #0087ff; text-decoration-color: #0087ff\">Dense</span>)                   │ (<span style=\"color: #00d7ff; text-decoration-color: #00d7ff\">None</span>, <span style=\"color: #00af00; text-decoration-color: #00af00\">512</span>)            │     <span style=\"color: #00af00; text-decoration-color: #00af00\">2,359,808</span> │\n",
              "├─────────────────────────────────┼────────────────────────┼───────────────┤\n",
              "│ dense_1 (<span style=\"color: #0087ff; text-decoration-color: #0087ff\">Dense</span>)                 │ (<span style=\"color: #00d7ff; text-decoration-color: #00d7ff\">None</span>, <span style=\"color: #00af00; text-decoration-color: #00af00\">1</span>)              │           <span style=\"color: #00af00; text-decoration-color: #00af00\">513</span> │\n",
              "└─────────────────────────────────┴────────────────────────┴───────────────┘\n",
              "</pre>\n"
            ]
          },
          "metadata": {}
        },
        {
          "output_type": "display_data",
          "data": {
            "text/plain": [
              "\u001b[1m Total params: \u001b[0m\u001b[38;5;34m5,202,308\u001b[0m (19.85 MB)\n"
            ],
            "text/html": [
              "<pre style=\"white-space:pre;overflow-x:auto;line-height:normal;font-family:Menlo,'DejaVu Sans Mono',consolas,'Courier New',monospace\"><span style=\"font-weight: bold\"> Total params: </span><span style=\"color: #00af00; text-decoration-color: #00af00\">5,202,308</span> (19.85 MB)\n",
              "</pre>\n"
            ]
          },
          "metadata": {}
        },
        {
          "output_type": "display_data",
          "data": {
            "text/plain": [
              "\u001b[1m Trainable params: \u001b[0m\u001b[38;5;34m2,601,153\u001b[0m (9.92 MB)\n"
            ],
            "text/html": [
              "<pre style=\"white-space:pre;overflow-x:auto;line-height:normal;font-family:Menlo,'DejaVu Sans Mono',consolas,'Courier New',monospace\"><span style=\"font-weight: bold\"> Trainable params: </span><span style=\"color: #00af00; text-decoration-color: #00af00\">2,601,153</span> (9.92 MB)\n",
              "</pre>\n"
            ]
          },
          "metadata": {}
        },
        {
          "output_type": "display_data",
          "data": {
            "text/plain": [
              "\u001b[1m Non-trainable params: \u001b[0m\u001b[38;5;34m0\u001b[0m (0.00 B)\n"
            ],
            "text/html": [
              "<pre style=\"white-space:pre;overflow-x:auto;line-height:normal;font-family:Menlo,'DejaVu Sans Mono',consolas,'Courier New',monospace\"><span style=\"font-weight: bold\"> Non-trainable params: </span><span style=\"color: #00af00; text-decoration-color: #00af00\">0</span> (0.00 B)\n",
              "</pre>\n"
            ]
          },
          "metadata": {}
        },
        {
          "output_type": "display_data",
          "data": {
            "text/plain": [
              "\u001b[1m Optimizer params: \u001b[0m\u001b[38;5;34m2,601,155\u001b[0m (9.92 MB)\n"
            ],
            "text/html": [
              "<pre style=\"white-space:pre;overflow-x:auto;line-height:normal;font-family:Menlo,'DejaVu Sans Mono',consolas,'Courier New',monospace\"><span style=\"font-weight: bold\"> Optimizer params: </span><span style=\"color: #00af00; text-decoration-color: #00af00\">2,601,155</span> (9.92 MB)\n",
              "</pre>\n"
            ]
          },
          "metadata": {}
        }
      ]
    },
    {
      "cell_type": "code",
      "source": [
        "model.compile(optimizer=keras.optimizers.RMSprop(learning_rate=1e-4), loss='binary_crossentropy', metrics=['accuracy'])"
      ],
      "metadata": {
        "id": "Dcisejfx_Zao"
      },
      "execution_count": null,
      "outputs": []
    },
    {
      "cell_type": "code",
      "source": [
        "history = model.fit(\n",
        "    train_dataset,\n",
        "    epochs=30,\n",
        "    validation_data=val_dataset\n",
        ")"
      ],
      "metadata": {
        "colab": {
          "base_uri": "https://localhost:8080/"
        },
        "id": "VwegCupd_bNK",
        "outputId": "217a3d6c-8cdc-405d-f179-77c9bab1eb51"
      },
      "execution_count": null,
      "outputs": [
        {
          "output_type": "stream",
          "name": "stdout",
          "text": [
            "Epoch 1/30\n",
            "\u001b[1m110/110\u001b[0m \u001b[32m━━━━━━━━━━━━━━━━━━━━\u001b[0m\u001b[37m\u001b[0m \u001b[1m7s\u001b[0m 45ms/step - accuracy: 0.8727 - loss: 0.3058 - val_accuracy: 0.6326 - val_loss: 0.7126\n",
            "Epoch 2/30\n",
            "\u001b[1m110/110\u001b[0m \u001b[32m━━━━━━━━━━━━━━━━━━━━\u001b[0m\u001b[37m\u001b[0m \u001b[1m3s\u001b[0m 26ms/step - accuracy: 0.8789 - loss: 0.2953 - val_accuracy: 0.7608 - val_loss: 0.5487\n",
            "Epoch 3/30\n",
            "\u001b[1m110/110\u001b[0m \u001b[32m━━━━━━━━━━━━━━━━━━━━\u001b[0m\u001b[37m\u001b[0m \u001b[1m3s\u001b[0m 26ms/step - accuracy: 0.8830 - loss: 0.2793 - val_accuracy: 0.7406 - val_loss: 0.6258\n",
            "Epoch 4/30\n",
            "\u001b[1m110/110\u001b[0m \u001b[32m━━━━━━━━━━━━━━━━━━━━\u001b[0m\u001b[37m\u001b[0m \u001b[1m3s\u001b[0m 26ms/step - accuracy: 0.8839 - loss: 0.2774 - val_accuracy: 0.7684 - val_loss: 0.5063\n",
            "Epoch 5/30\n",
            "\u001b[1m110/110\u001b[0m \u001b[32m━━━━━━━━━━━━━━━━━━━━\u001b[0m\u001b[37m\u001b[0m \u001b[1m3s\u001b[0m 26ms/step - accuracy: 0.8923 - loss: 0.2667 - val_accuracy: 0.7660 - val_loss: 0.5070\n",
            "Epoch 6/30\n",
            "\u001b[1m110/110\u001b[0m \u001b[32m━━━━━━━━━━━━━━━━━━━━\u001b[0m\u001b[37m\u001b[0m \u001b[1m3s\u001b[0m 26ms/step - accuracy: 0.9013 - loss: 0.2513 - val_accuracy: 0.7267 - val_loss: 0.5771\n",
            "Epoch 7/30\n",
            "\u001b[1m110/110\u001b[0m \u001b[32m━━━━━━━━━━━━━━━━━━━━\u001b[0m\u001b[37m\u001b[0m \u001b[1m3s\u001b[0m 26ms/step - accuracy: 0.9029 - loss: 0.2466 - val_accuracy: 0.7157 - val_loss: 0.6420\n",
            "Epoch 8/30\n",
            "\u001b[1m110/110\u001b[0m \u001b[32m━━━━━━━━━━━━━━━━━━━━\u001b[0m\u001b[37m\u001b[0m \u001b[1m3s\u001b[0m 26ms/step - accuracy: 0.8967 - loss: 0.2522 - val_accuracy: 0.7402 - val_loss: 0.5715\n",
            "Epoch 9/30\n",
            "\u001b[1m110/110\u001b[0m \u001b[32m━━━━━━━━━━━━━━━━━━━━\u001b[0m\u001b[37m\u001b[0m \u001b[1m3s\u001b[0m 26ms/step - accuracy: 0.9114 - loss: 0.2343 - val_accuracy: 0.6346 - val_loss: 0.8345\n",
            "Epoch 10/30\n",
            "\u001b[1m110/110\u001b[0m \u001b[32m━━━━━━━━━━━━━━━━━━━━\u001b[0m\u001b[37m\u001b[0m \u001b[1m3s\u001b[0m 26ms/step - accuracy: 0.9095 - loss: 0.2308 - val_accuracy: 0.7645 - val_loss: 0.5468\n",
            "Epoch 11/30\n",
            "\u001b[1m110/110\u001b[0m \u001b[32m━━━━━━━━━━━━━━━━━━━━\u001b[0m\u001b[37m\u001b[0m \u001b[1m3s\u001b[0m 26ms/step - accuracy: 0.9084 - loss: 0.2280 - val_accuracy: 0.7737 - val_loss: 0.5697\n",
            "Epoch 12/30\n",
            "\u001b[1m110/110\u001b[0m \u001b[32m━━━━━━━━━━━━━━━━━━━━\u001b[0m\u001b[37m\u001b[0m \u001b[1m3s\u001b[0m 26ms/step - accuracy: 0.9191 - loss: 0.2090 - val_accuracy: 0.7551 - val_loss: 0.5665\n",
            "Epoch 13/30\n",
            "\u001b[1m110/110\u001b[0m \u001b[32m━━━━━━━━━━━━━━━━━━━━\u001b[0m\u001b[37m\u001b[0m \u001b[1m3s\u001b[0m 26ms/step - accuracy: 0.9290 - loss: 0.1991 - val_accuracy: 0.7598 - val_loss: 0.6105\n",
            "Epoch 14/30\n",
            "\u001b[1m110/110\u001b[0m \u001b[32m━━━━━━━━━━━━━━━━━━━━\u001b[0m\u001b[37m\u001b[0m \u001b[1m3s\u001b[0m 26ms/step - accuracy: 0.9192 - loss: 0.2060 - val_accuracy: 0.7484 - val_loss: 0.6111\n",
            "Epoch 15/30\n",
            "\u001b[1m110/110\u001b[0m \u001b[32m━━━━━━━━━━━━━━━━━━━━\u001b[0m\u001b[37m\u001b[0m \u001b[1m3s\u001b[0m 26ms/step - accuracy: 0.9309 - loss: 0.1872 - val_accuracy: 0.7141 - val_loss: 0.6860\n",
            "Epoch 16/30\n",
            "\u001b[1m110/110\u001b[0m \u001b[32m━━━━━━━━━━━━━━━━━━━━\u001b[0m\u001b[37m\u001b[0m \u001b[1m3s\u001b[0m 26ms/step - accuracy: 0.9351 - loss: 0.1785 - val_accuracy: 0.7664 - val_loss: 0.7551\n",
            "Epoch 17/30\n",
            "\u001b[1m110/110\u001b[0m \u001b[32m━━━━━━━━━━━━━━━━━━━━\u001b[0m\u001b[37m\u001b[0m \u001b[1m3s\u001b[0m 26ms/step - accuracy: 0.9367 - loss: 0.1698 - val_accuracy: 0.7762 - val_loss: 0.6211\n",
            "Epoch 18/30\n",
            "\u001b[1m110/110\u001b[0m \u001b[32m━━━━━━━━━━━━━━━━━━━━\u001b[0m\u001b[37m\u001b[0m \u001b[1m3s\u001b[0m 26ms/step - accuracy: 0.9358 - loss: 0.1695 - val_accuracy: 0.7688 - val_loss: 0.6673\n",
            "Epoch 19/30\n",
            "\u001b[1m110/110\u001b[0m \u001b[32m━━━━━━━━━━━━━━━━━━━━\u001b[0m\u001b[37m\u001b[0m \u001b[1m3s\u001b[0m 26ms/step - accuracy: 0.9387 - loss: 0.1575 - val_accuracy: 0.7224 - val_loss: 0.7145\n",
            "Epoch 20/30\n",
            "\u001b[1m110/110\u001b[0m \u001b[32m━━━━━━━━━━━━━━━━━━━━\u001b[0m\u001b[37m\u001b[0m \u001b[1m3s\u001b[0m 26ms/step - accuracy: 0.9448 - loss: 0.1557 - val_accuracy: 0.7479 - val_loss: 0.8146\n",
            "Epoch 21/30\n",
            "\u001b[1m110/110\u001b[0m \u001b[32m━━━━━━━━━━━━━━━━━━━━\u001b[0m\u001b[37m\u001b[0m \u001b[1m3s\u001b[0m 26ms/step - accuracy: 0.9449 - loss: 0.1428 - val_accuracy: 0.7466 - val_loss: 0.6724\n",
            "Epoch 22/30\n",
            "\u001b[1m110/110\u001b[0m \u001b[32m━━━━━━━━━━━━━━━━━━━━\u001b[0m\u001b[37m\u001b[0m \u001b[1m3s\u001b[0m 26ms/step - accuracy: 0.9592 - loss: 0.1257 - val_accuracy: 0.7446 - val_loss: 0.6973\n",
            "Epoch 23/30\n",
            "\u001b[1m110/110\u001b[0m \u001b[32m━━━━━━━━━━━━━━━━━━━━\u001b[0m\u001b[37m\u001b[0m \u001b[1m3s\u001b[0m 26ms/step - accuracy: 0.9587 - loss: 0.1251 - val_accuracy: 0.7568 - val_loss: 0.7221\n",
            "Epoch 24/30\n",
            "\u001b[1m110/110\u001b[0m \u001b[32m━━━━━━━━━━━━━━━━━━━━\u001b[0m\u001b[37m\u001b[0m \u001b[1m3s\u001b[0m 26ms/step - accuracy: 0.9599 - loss: 0.1151 - val_accuracy: 0.7568 - val_loss: 0.6785\n",
            "Epoch 25/30\n",
            "\u001b[1m110/110\u001b[0m \u001b[32m━━━━━━━━━━━━━━━━━━━━\u001b[0m\u001b[37m\u001b[0m \u001b[1m3s\u001b[0m 26ms/step - accuracy: 0.9572 - loss: 0.1149 - val_accuracy: 0.7433 - val_loss: 1.0196\n",
            "Epoch 26/30\n",
            "\u001b[1m110/110\u001b[0m \u001b[32m━━━━━━━━━━━━━━━━━━━━\u001b[0m\u001b[37m\u001b[0m \u001b[1m3s\u001b[0m 26ms/step - accuracy: 0.9595 - loss: 0.1093 - val_accuracy: 0.7597 - val_loss: 1.0324\n",
            "Epoch 27/30\n",
            "\u001b[1m110/110\u001b[0m \u001b[32m━━━━━━━━━━━━━━━━━━━━\u001b[0m\u001b[37m\u001b[0m \u001b[1m3s\u001b[0m 26ms/step - accuracy: 0.9635 - loss: 0.1072 - val_accuracy: 0.7257 - val_loss: 0.8195\n",
            "Epoch 28/30\n",
            "\u001b[1m110/110\u001b[0m \u001b[32m━━━━━━━━━━━━━━━━━━━━\u001b[0m\u001b[37m\u001b[0m \u001b[1m3s\u001b[0m 26ms/step - accuracy: 0.9552 - loss: 0.1283 - val_accuracy: 0.7441 - val_loss: 0.7700\n",
            "Epoch 29/30\n",
            "\u001b[1m110/110\u001b[0m \u001b[32m━━━━━━━━━━━━━━━━━━━━\u001b[0m\u001b[37m\u001b[0m \u001b[1m3s\u001b[0m 26ms/step - accuracy: 0.9709 - loss: 0.0901 - val_accuracy: 0.7463 - val_loss: 0.7789\n",
            "Epoch 30/30\n",
            "\u001b[1m110/110\u001b[0m \u001b[32m━━━━━━━━━━━━━━━━━━━━\u001b[0m\u001b[37m\u001b[0m \u001b[1m3s\u001b[0m 26ms/step - accuracy: 0.9730 - loss: 0.0858 - val_accuracy: 0.4946 - val_loss: 1.9685\n"
          ]
        }
      ]
    },
    {
      "cell_type": "code",
      "source": [
        "model.save('cnn_no_augmentation.keras')"
      ],
      "metadata": {
        "id": "MIdNtn_3Mfwd"
      },
      "execution_count": null,
      "outputs": []
    },
    {
      "cell_type": "code",
      "source": [
        "history_dict = history.history\n",
        "history_dict.keys()\n",
        "\n",
        "epochs = range(1, len(history_dict['accuracy']) + 1)\n",
        "fig, (ax1, ax2) = plt.subplots(1, 2, figsize=(16, 6))\n",
        "\n",
        "ax1.plot(epochs, history_dict['loss'], 'r-o', label='Training loss')\n",
        "ax1.plot(epochs, history_dict['val_loss'], 'b-o', label='Validation loss')\n",
        "ax1.set_title('Training and Validation Loss', fontsize=18)\n",
        "ax1.set_xlabel('Epochs', fontsize=14)\n",
        "ax1.set_ylabel('Loss', fontsize=14)\n",
        "ax1.grid(True)\n",
        "ax1.legend(fontsize=16)\n",
        "\n",
        "loss_ticks = np.arange(0, 1.1, 0.1)\n",
        "ax1.set_yticks(loss_ticks)\n",
        "\n",
        "ax2.plot(epochs, history_dict['accuracy'], 'r-o', label='Training accuracy')\n",
        "ax2.plot(epochs, history_dict['val_accuracy'], 'b-o', label='Validation accuracy')\n",
        "ax2.set_title('Training and Validation Accuracy', fontsize=18)\n",
        "ax2.set_xlabel('Epochs', fontsize=14)\n",
        "ax2.set_ylabel('Accuracy', fontsize=14)\n",
        "ax2.grid(True)\n",
        "ax2.legend(fontsize=16)\n",
        "\n",
        "accuracy_ticks = np.arange(0, 1.1, 0.1)\n",
        "ax2.set_yticks(accuracy_ticks)\n",
        "\n",
        "plt.tight_layout()\n",
        "plt.savefig(\"CNN_training_no_aug.pdf\", format='pdf')\n",
        "plt.show()"
      ],
      "metadata": {
        "colab": {
          "base_uri": "https://localhost:8080/",
          "height": 446
        },
        "id": "pqCQRmlSC6yx",
        "outputId": "24138ab9-47a4-40b2-c46f-2e8fc9ae5461"
      },
      "execution_count": null,
      "outputs": [
        {
          "output_type": "display_data",
          "data": {
            "text/plain": [
              "<Figure size 1600x600 with 2 Axes>"
            ],
            "image/png": "[encoded data removed]"
          },
          "metadata": {}
        }
      ]
    },
    {
      "cell_type": "code",
      "source": [
        "\n",
        "class_names = train_dataset.class_names\n",
        "\n",
        "y_true = []\n",
        "y_pred = []\n",
        "\n",
        "for images, labels in val_dataset:\n",
        "    preds = model.predict(images, verbose=0)\n",
        "    y_true.extend(labels.numpy())\n",
        "    y_pred.extend((preds > 0.5).astype(int).flatten())\n",
        "\n",
        "cm = confusion_matrix(y_true, y_pred)\n",
        "\n",
        "plt.figure(figsize=(10, 8))\n",
        "sns.heatmap(cm, annot=True, fmt=\"d\", cmap=\"Blues\",\n",
        "            xticklabels=class_names, yticklabels=class_names)\n",
        "plt.xlabel(\"Predicted Label\", fontsize=14)\n",
        "plt.ylabel(\"True Label\", fontsize=14)\n",
        "plt.savefig(\"CNN_ConfusionMatrix_no_aug.pdf\", format='pdf')\n",
        "plt.show()"
      ],
      "metadata": {
        "colab": {
          "base_uri": "https://localhost:8080/",
          "height": 701
        },
        "id": "bcVjtVCr6FAM",
        "outputId": "2ebe3755-1974-46de-8966-5ba8587db6d6"
      },
      "execution_count": null,
      "outputs": [
        {
          "output_type": "display_data",
          "data": {
            "text/plain": [
              "<Figure size 1000x800 with 2 Axes>"
            ],
            "image/png": "[encoded data removed]"
          },
          "metadata": {}
        }
      ]
    },
    {
      "cell_type": "code",
      "source": [
        "print(classification_report(y_true, y_pred))"
      ],
      "metadata": {
        "colab": {
          "base_uri": "https://localhost:8080/"
        },
        "id": "DDaGrL736JIb",
        "outputId": "f520e3fd-cadc-4a31-d13e-2ccac72df17a"
      },
      "execution_count": null,
      "outputs": [
        {
          "output_type": "stream",
          "name": "stdout",
          "text": [
            "              precision    recall  f1-score   support\n",
            "\n",
            "         0.0       0.35      0.92      0.51      1978\n",
            "         1.0       0.91      0.33      0.48      5000\n",
            "\n",
            "    accuracy                           0.49      6978\n",
            "   macro avg       0.63      0.62      0.49      6978\n",
            "weighted avg       0.75      0.49      0.49      6978\n",
            "\n"
          ]
        }
      ]
    },
    {
      "cell_type": "markdown",
      "source": [
        "### GRAD CAM algorithm for visualizing heatmap (+ boundingbox?)"
      ],
      "metadata": {
        "id": "qcWOJbSt4t4w"
      }
    },
    {
      "cell_type": "code",
      "source": [
        "def visualize_heatmap():\n",
        "  pass"
      ],
      "metadata": {
        "id": "LzeP_qAf4gMg"
      },
      "execution_count": null,
      "outputs": []
    },
    {
      "cell_type": "markdown",
      "source": [
        "### data augmentation (Eff += 1500)"
      ],
      "metadata": {
        "id": "rdGqdqzo_p6U"
      }
    },
    {
      "cell_type": "code",
      "source": [
        "model.build()"
      ],
      "metadata": {
        "id": "LhR_u4G8_r92"
      },
      "execution_count": null,
      "outputs": []
    },
    {
      "cell_type": "code",
      "source": [
        "model.compile(optimizer=keras.optimizers.RMSprop(learning_rate=1e-4), loss='binary_crossentropy', metrics=['accuracy'])"
      ],
      "metadata": {
        "id": "4KZMpJqvBgoB"
      },
      "execution_count": null,
      "outputs": []
    },
    {
      "cell_type": "code",
      "source": [
        "history = model.fit(\n",
        "    train_dataset_generated,\n",
        "    epochs=30,\n",
        "    validation_data=val_dataset,\n",
        ")\n",
        "\n",
        "history_dict = history.history\n",
        "history_dict.keys()"
      ],
      "metadata": {
        "colab": {
          "base_uri": "https://localhost:8080/"
        },
        "id": "HP9xVqNuBh2J",
        "outputId": "9c4b1fff-822b-4dbb-b73b-2781b12f9ec4"
      },
      "execution_count": null,
      "outputs": [
        {
          "output_type": "stream",
          "name": "stdout",
          "text": [
            "Epoch 1/30\n",
            "\u001b[1m125/125\u001b[0m \u001b[32m━━━━━━━━━━━━━━━━━━━━\u001b[0m\u001b[37m\u001b[0m \u001b[1m11s\u001b[0m 54ms/step - accuracy: 0.6905 - loss: 0.5976 - val_accuracy: 0.7158 - val_loss: 0.5549\n",
            "Epoch 2/30\n",
            "\u001b[1m125/125\u001b[0m \u001b[32m━━━━━━━━━━━━━━━━━━━━\u001b[0m\u001b[37m\u001b[0m \u001b[1m3s\u001b[0m 26ms/step - accuracy: 0.7554 - loss: 0.4905 - val_accuracy: 0.7750 - val_loss: 0.5234\n",
            "Epoch 3/30\n",
            "\u001b[1m125/125\u001b[0m \u001b[32m━━━━━━━━━━━━━━━━━━━━\u001b[0m\u001b[37m\u001b[0m \u001b[1m3s\u001b[0m 25ms/step - accuracy: 0.7560 - loss: 0.4760 - val_accuracy: 0.7813 - val_loss: 0.4955\n",
            "Epoch 4/30\n",
            "\u001b[1m125/125\u001b[0m \u001b[32m━━━━━━━━━━━━━━━━━━━━\u001b[0m\u001b[37m\u001b[0m \u001b[1m3s\u001b[0m 26ms/step - accuracy: 0.7723 - loss: 0.4599 - val_accuracy: 0.7954 - val_loss: 0.4826\n",
            "Epoch 5/30\n",
            "\u001b[1m125/125\u001b[0m \u001b[32m━━━━━━━━━━━━━━━━━━━━\u001b[0m\u001b[37m\u001b[0m \u001b[1m3s\u001b[0m 26ms/step - accuracy: 0.7779 - loss: 0.4470 - val_accuracy: 0.7519 - val_loss: 0.4905\n",
            "Epoch 6/30\n",
            "\u001b[1m125/125\u001b[0m \u001b[32m━━━━━━━━━━━━━━━━━━━━\u001b[0m\u001b[37m\u001b[0m \u001b[1m3s\u001b[0m 26ms/step - accuracy: 0.7802 - loss: 0.4376 - val_accuracy: 0.7729 - val_loss: 0.4669\n",
            "Epoch 7/30\n",
            "\u001b[1m125/125\u001b[0m \u001b[32m━━━━━━━━━━━━━━━━━━━━\u001b[0m\u001b[37m\u001b[0m \u001b[1m3s\u001b[0m 26ms/step - accuracy: 0.7883 - loss: 0.4306 - val_accuracy: 0.7585 - val_loss: 0.4933\n",
            "Epoch 8/30\n",
            "\u001b[1m125/125\u001b[0m \u001b[32m━━━━━━━━━━━━━━━━━━━━\u001b[0m\u001b[37m\u001b[0m \u001b[1m3s\u001b[0m 26ms/step - accuracy: 0.7964 - loss: 0.4191 - val_accuracy: 0.7792 - val_loss: 0.4723\n",
            "Epoch 9/30\n",
            "\u001b[1m125/125\u001b[0m \u001b[32m━━━━━━━━━━━━━━━━━━━━\u001b[0m\u001b[37m\u001b[0m \u001b[1m3s\u001b[0m 26ms/step - accuracy: 0.8027 - loss: 0.4097 - val_accuracy: 0.7764 - val_loss: 0.4686\n",
            "Epoch 10/30\n",
            "\u001b[1m125/125\u001b[0m \u001b[32m━━━━━━━━━━━━━━━━━━━━\u001b[0m\u001b[37m\u001b[0m \u001b[1m3s\u001b[0m 26ms/step - accuracy: 0.8056 - loss: 0.4062 - val_accuracy: 0.7875 - val_loss: 0.4590\n",
            "Epoch 11/30\n",
            "\u001b[1m125/125\u001b[0m \u001b[32m━━━━━━━━━━━━━━━━━━━━\u001b[0m\u001b[37m\u001b[0m \u001b[1m3s\u001b[0m 26ms/step - accuracy: 0.8124 - loss: 0.3991 - val_accuracy: 0.7833 - val_loss: 0.4628\n",
            "Epoch 12/30\n",
            "\u001b[1m125/125\u001b[0m \u001b[32m━━━━━━━━━━━━━━━━━━━━\u001b[0m\u001b[37m\u001b[0m \u001b[1m3s\u001b[0m 26ms/step - accuracy: 0.8151 - loss: 0.3912 - val_accuracy: 0.7673 - val_loss: 0.4834\n",
            "Epoch 13/30\n",
            "\u001b[1m125/125\u001b[0m \u001b[32m━━━━━━━━━━━━━━━━━━━━\u001b[0m\u001b[37m\u001b[0m \u001b[1m3s\u001b[0m 26ms/step - accuracy: 0.8234 - loss: 0.3793 - val_accuracy: 0.7822 - val_loss: 0.4625\n",
            "Epoch 14/30\n",
            "\u001b[1m125/125\u001b[0m \u001b[32m━━━━━━━━━━━━━━━━━━━━\u001b[0m\u001b[37m\u001b[0m \u001b[1m3s\u001b[0m 25ms/step - accuracy: 0.8300 - loss: 0.3778 - val_accuracy: 0.7807 - val_loss: 0.4560\n",
            "Epoch 15/30\n",
            "\u001b[1m125/125\u001b[0m \u001b[32m━━━━━━━━━━━━━━━━━━━━\u001b[0m\u001b[37m\u001b[0m \u001b[1m3s\u001b[0m 25ms/step - accuracy: 0.8299 - loss: 0.3679 - val_accuracy: 0.7760 - val_loss: 0.4626\n",
            "Epoch 16/30\n",
            "\u001b[1m125/125\u001b[0m \u001b[32m━━━━━━━━━━━━━━━━━━━━\u001b[0m\u001b[37m\u001b[0m \u001b[1m3s\u001b[0m 26ms/step - accuracy: 0.8331 - loss: 0.3586 - val_accuracy: 0.7782 - val_loss: 0.4828\n",
            "Epoch 17/30\n",
            "\u001b[1m125/125\u001b[0m \u001b[32m━━━━━━━━━━━━━━━━━━━━\u001b[0m\u001b[37m\u001b[0m \u001b[1m3s\u001b[0m 26ms/step - accuracy: 0.8313 - loss: 0.3632 - val_accuracy: 0.7794 - val_loss: 0.4500\n",
            "Epoch 18/30\n",
            "\u001b[1m125/125\u001b[0m \u001b[32m━━━━━━━━━━━━━━━━━━━━\u001b[0m\u001b[37m\u001b[0m \u001b[1m3s\u001b[0m 25ms/step - accuracy: 0.8369 - loss: 0.3507 - val_accuracy: 0.7794 - val_loss: 0.4590\n",
            "Epoch 19/30\n",
            "\u001b[1m125/125\u001b[0m \u001b[32m━━━━━━━━━━━━━━━━━━━━\u001b[0m\u001b[37m\u001b[0m \u001b[1m3s\u001b[0m 25ms/step - accuracy: 0.8443 - loss: 0.3444 - val_accuracy: 0.7773 - val_loss: 0.4807\n",
            "Epoch 20/30\n",
            "\u001b[1m125/125\u001b[0m \u001b[32m━━━━━━━━━━━━━━━━━━━━\u001b[0m\u001b[37m\u001b[0m \u001b[1m3s\u001b[0m 26ms/step - accuracy: 0.8460 - loss: 0.3363 - val_accuracy: 0.7524 - val_loss: 0.5109\n",
            "Epoch 21/30\n",
            "\u001b[1m125/125\u001b[0m \u001b[32m━━━━━━━━━━━━━━━━━━━━\u001b[0m\u001b[37m\u001b[0m \u001b[1m3s\u001b[0m 26ms/step - accuracy: 0.8538 - loss: 0.3305 - val_accuracy: 0.7701 - val_loss: 0.4768\n",
            "Epoch 22/30\n",
            "\u001b[1m125/125\u001b[0m \u001b[32m━━━━━━━━━━━━━━━━━━━━\u001b[0m\u001b[37m\u001b[0m \u001b[1m3s\u001b[0m 25ms/step - accuracy: 0.8542 - loss: 0.3299 - val_accuracy: 0.7698 - val_loss: 0.4866\n",
            "Epoch 23/30\n",
            "\u001b[1m125/125\u001b[0m \u001b[32m━━━━━━━━━━━━━━━━━━━━\u001b[0m\u001b[37m\u001b[0m \u001b[1m3s\u001b[0m 26ms/step - accuracy: 0.8554 - loss: 0.3193 - val_accuracy: 0.7710 - val_loss: 0.4876\n",
            "Epoch 24/30\n",
            "\u001b[1m125/125\u001b[0m \u001b[32m━━━━━━━━━━━━━━━━━━━━\u001b[0m\u001b[37m\u001b[0m \u001b[1m3s\u001b[0m 26ms/step - accuracy: 0.8689 - loss: 0.3097 - val_accuracy: 0.7645 - val_loss: 0.5227\n",
            "Epoch 25/30\n",
            "\u001b[1m125/125\u001b[0m \u001b[32m━━━━━━━━━━━━━━━━━━━━\u001b[0m\u001b[37m\u001b[0m \u001b[1m3s\u001b[0m 26ms/step - accuracy: 0.8667 - loss: 0.3130 - val_accuracy: 0.7710 - val_loss: 0.4887\n",
            "Epoch 26/30\n",
            "\u001b[1m125/125\u001b[0m \u001b[32m━━━━━━━━━━━━━━━━━━━━\u001b[0m\u001b[37m\u001b[0m \u001b[1m3s\u001b[0m 25ms/step - accuracy: 0.8757 - loss: 0.2980 - val_accuracy: 0.7064 - val_loss: 0.5949\n",
            "Epoch 27/30\n",
            "\u001b[1m125/125\u001b[0m \u001b[32m━━━━━━━━━━━━━━━━━━━━\u001b[0m\u001b[37m\u001b[0m \u001b[1m3s\u001b[0m 25ms/step - accuracy: 0.8712 - loss: 0.3041 - val_accuracy: 0.7591 - val_loss: 0.5556\n",
            "Epoch 28/30\n",
            "\u001b[1m125/125\u001b[0m \u001b[32m━━━━━━━━━━━━━━━━━━━━\u001b[0m\u001b[37m\u001b[0m \u001b[1m3s\u001b[0m 26ms/step - accuracy: 0.8815 - loss: 0.2828 - val_accuracy: 0.7611 - val_loss: 0.5244\n",
            "Epoch 29/30\n",
            "\u001b[1m125/125\u001b[0m \u001b[32m━━━━━━━━━━━━━━━━━━━━\u001b[0m\u001b[37m\u001b[0m \u001b[1m3s\u001b[0m 25ms/step - accuracy: 0.8779 - loss: 0.2865 - val_accuracy: 0.7709 - val_loss: 0.4919\n",
            "Epoch 30/30\n",
            "\u001b[1m125/125\u001b[0m \u001b[32m━━━━━━━━━━━━━━━━━━━━\u001b[0m\u001b[37m\u001b[0m \u001b[1m3s\u001b[0m 25ms/step - accuracy: 0.8813 - loss: 0.2784 - val_accuracy: 0.7729 - val_loss: 0.5062\n"
          ]
        },
        {
          "output_type": "execute_result",
          "data": {
            "text/plain": [
              "dict_keys(['accuracy', 'loss', 'val_accuracy', 'val_loss'])"
            ]
          },
          "metadata": {},
          "execution_count": 33
        }
      ]
    },
    {
      "cell_type": "code",
      "source": [
        "epochs = range(1, len(history_dict['accuracy']) + 1)\n",
        "fig, (ax1, ax2) = plt.subplots(1, 2, figsize=(16, 6))\n",
        "\n",
        "ax1.plot(epochs, history_dict['loss'], 'r-o', label='Training loss')\n",
        "ax1.plot(epochs, history_dict['val_loss'], 'b-o', label='Validation loss')\n",
        "ax1.set_title('Training and Validation Loss', fontsize=18)\n",
        "ax1.set_xlabel('Epochs', fontsize=14)\n",
        "ax1.set_ylabel('Loss', fontsize=14)\n",
        "ax1.grid(True)\n",
        "ax1.legend(fontsize=16)\n",
        "\n",
        "loss_ticks = np.arange(0, 1.1, 0.1)\n",
        "ax1.set_yticks(loss_ticks)\n",
        "\n",
        "ax2.plot(epochs, history_dict['accuracy'], 'r-o', label='Training accuracy')\n",
        "ax2.plot(epochs, history_dict['val_accuracy'], 'b-o', label='Validation accuracy')\n",
        "ax2.set_title('Training and Validation Accuracy', fontsize=18)\n",
        "ax2.set_xlabel('Epochs', fontsize=14)\n",
        "ax2.set_ylabel('Accuracy', fontsize=14)\n",
        "ax2.grid(True)\n",
        "ax2.legend(fontsize=16)\n",
        "\n",
        "accuracy_ticks = np.arange(0, 1.1, 0.1)\n",
        "ax2.set_yticks(accuracy_ticks)\n",
        "\n",
        "plt.tight_layout()\n",
        "plt.savefig(\"CNN_training_aug.pdf\", format='pdf')\n",
        "plt.show()"
      ],
      "metadata": {
        "colab": {
          "base_uri": "https://localhost:8080/",
          "height": 446
        },
        "id": "HK-k1mDuBmNX",
        "outputId": "900c613f-0e28-4064-d76f-3556b7f00c20"
      },
      "execution_count": null,
      "outputs": [
        {
          "output_type": "display_data",
          "data": {
            "text/plain": [
              "<Figure size 1600x600 with 2 Axes>"
            ],
            "image/png": "[encoded data removed]"
          },
          "metadata": {}
        }
      ]
    },
    {
      "cell_type": "code",
      "source": [
        "\n",
        "class_names = train_dataset.class_names\n",
        "\n",
        "y_true = []\n",
        "y_pred = []\n",
        "\n",
        "for images, labels in val_dataset:\n",
        "    preds = model.predict(images, verbose=0)\n",
        "    y_true.extend(labels.numpy())\n",
        "    y_pred.extend((preds > 0.5).astype(int).flatten())\n",
        "\n",
        "cm = confusion_matrix(y_true, y_pred)\n",
        "\n",
        "plt.figure(figsize=(10, 8))\n",
        "sns.heatmap(cm, annot=True, fmt=\"d\", cmap=\"Blues\",\n",
        "            xticklabels=class_names, yticklabels=class_names)\n",
        "plt.xlabel(\"Predicted Label\", fontsize=14)\n",
        "plt.ylabel(\"True Label\", fontsize=14)\n",
        "\n",
        "plt.savefig(\"CNN_ConfusionMatrix_aug.pdf\", format='pdf')\n",
        "plt.show()"
      ],
      "metadata": {
        "colab": {
          "base_uri": "https://localhost:8080/",
          "height": 701
        },
        "id": "wFLItPlQz5bh",
        "outputId": "5d611b94-6641-4bd1-caae-2cda55285930"
      },
      "execution_count": null,
      "outputs": [
        {
          "output_type": "display_data",
          "data": {
            "text/plain": [
              "<Figure size 1000x800 with 2 Axes>"
            ],
            "image/png": "[encoded data removed]"
          },
          "metadata": {}
        }
      ]
    },
    {
      "cell_type": "code",
      "source": [
        "print(classification_report(y_true, y_pred))"
      ],
      "metadata": {
        "colab": {
          "base_uri": "https://localhost:8080/"
        },
        "id": "rJhonS9s0LQP",
        "outputId": "c3a56616-6701-4434-d396-a1e7169ef0f0"
      },
      "execution_count": null,
      "outputs": [
        {
          "output_type": "stream",
          "name": "stdout",
          "text": [
            "              precision    recall  f1-score   support\n",
            "\n",
            "         0.0       0.61      0.55      0.58      1978\n",
            "         1.0       0.83      0.86      0.84      5000\n",
            "\n",
            "    accuracy                           0.77      6978\n",
            "   macro avg       0.72      0.71      0.71      6978\n",
            "weighted avg       0.77      0.77      0.77      6978\n",
            "\n"
          ]
        }
      ]
    },
    {
      "cell_type": "code",
      "source": [
        "model.save('cnn_augmentation.keras')"
      ],
      "metadata": {
        "id": "Bo5CV-Z_VCim"
      },
      "execution_count": null,
      "outputs": []
    },
    {
      "cell_type": "markdown",
      "source": [
        "### Generated Eff, NoF = 6000"
      ],
      "metadata": {
        "id": "fplf3UtV1UQZ"
      }
    },
    {
      "cell_type": "code",
      "source": [
        "model.build()\n",
        "model.compile(optimizer=keras.optimizers.RMSprop(learning_rate=1e-4), loss='binary_crossentropy', metrics=['accuracy'])"
      ],
      "metadata": {
        "id": "qUipaGZB1T6z"
      },
      "execution_count": null,
      "outputs": []
    },
    {
      "cell_type": "code",
      "source": [
        "history = model.fit(\n",
        "    train_dataset_generated,\n",
        "    epochs=30,\n",
        "    validation_data=val_dataset,\n",
        ")\n",
        "\n",
        "history_dict = history.history\n",
        "history_dict.keys()"
      ],
      "metadata": {
        "id": "iwmz54iv1o42",
        "colab": {
          "base_uri": "https://localhost:8080/"
        },
        "outputId": "943e62ff-cf46-49b1-a355-b01cae554d4c"
      },
      "execution_count": null,
      "outputs": [
        {
          "output_type": "stream",
          "name": "stdout",
          "text": [
            "Epoch 1/30\n",
            "\u001b[1m188/188\u001b[0m \u001b[32m━━━━━━━━━━━━━━━━━━━━\u001b[0m\u001b[37m\u001b[0m \u001b[1m13s\u001b[0m 43ms/step - accuracy: 0.7051 - loss: 0.5935 - val_accuracy: 0.7161 - val_loss: 0.5419\n",
            "Epoch 2/30\n",
            "\u001b[1m188/188\u001b[0m \u001b[32m━━━━━━━━━━━━━━━━━━━━\u001b[0m\u001b[37m\u001b[0m \u001b[1m5s\u001b[0m 25ms/step - accuracy: 0.7883 - loss: 0.4469 - val_accuracy: 0.7650 - val_loss: 0.5080\n",
            "Epoch 3/30\n",
            "\u001b[1m188/188\u001b[0m \u001b[32m━━━━━━━━━━━━━━━━━━━━\u001b[0m\u001b[37m\u001b[0m \u001b[1m5s\u001b[0m 25ms/step - accuracy: 0.8236 - loss: 0.3659 - val_accuracy: 0.7571 - val_loss: 0.4796\n",
            "Epoch 4/30\n",
            "\u001b[1m188/188\u001b[0m \u001b[32m━━━━━━━━━━━━━━━━━━━━\u001b[0m\u001b[37m\u001b[0m \u001b[1m5s\u001b[0m 25ms/step - accuracy: 0.8433 - loss: 0.3245 - val_accuracy: 0.7280 - val_loss: 0.5417\n",
            "Epoch 5/30\n",
            "\u001b[1m188/188\u001b[0m \u001b[32m━━━━━━━━━━━━━━━━━━━━\u001b[0m\u001b[37m\u001b[0m \u001b[1m5s\u001b[0m 25ms/step - accuracy: 0.8570 - loss: 0.3006 - val_accuracy: 0.7787 - val_loss: 0.4841\n",
            "Epoch 6/30\n",
            "\u001b[1m188/188\u001b[0m \u001b[32m━━━━━━━━━━━━━━━━━━━━\u001b[0m\u001b[37m\u001b[0m \u001b[1m5s\u001b[0m 25ms/step - accuracy: 0.8666 - loss: 0.2882 - val_accuracy: 0.7671 - val_loss: 0.5019\n",
            "Epoch 7/30\n",
            "\u001b[1m188/188\u001b[0m \u001b[32m━━━━━━━━━━━━━━━━━━━━\u001b[0m\u001b[37m\u001b[0m \u001b[1m5s\u001b[0m 25ms/step - accuracy: 0.8622 - loss: 0.2826 - val_accuracy: 0.7701 - val_loss: 0.5085\n",
            "Epoch 8/30\n",
            "\u001b[1m188/188\u001b[0m \u001b[32m━━━━━━━━━━━━━━━━━━━━\u001b[0m\u001b[37m\u001b[0m \u001b[1m5s\u001b[0m 25ms/step - accuracy: 0.8716 - loss: 0.2722 - val_accuracy: 0.7783 - val_loss: 0.4699\n",
            "Epoch 9/30\n",
            "\u001b[1m188/188\u001b[0m \u001b[32m━━━━━━━━━━━━━━━━━━━━\u001b[0m\u001b[37m\u001b[0m \u001b[1m5s\u001b[0m 25ms/step - accuracy: 0.8763 - loss: 0.2684 - val_accuracy: 0.7572 - val_loss: 0.5042\n",
            "Epoch 10/30\n",
            "\u001b[1m188/188\u001b[0m \u001b[32m━━━━━━━━━━━━━━━━━━━━\u001b[0m\u001b[37m\u001b[0m \u001b[1m5s\u001b[0m 25ms/step - accuracy: 0.8835 - loss: 0.2591 - val_accuracy: 0.7442 - val_loss: 0.5374\n",
            "Epoch 11/30\n",
            "\u001b[1m188/188\u001b[0m \u001b[32m━━━━━━━━━━━━━━━━━━━━\u001b[0m\u001b[37m\u001b[0m \u001b[1m5s\u001b[0m 25ms/step - accuracy: 0.8878 - loss: 0.2511 - val_accuracy: 0.7691 - val_loss: 0.4760\n",
            "Epoch 12/30\n",
            "\u001b[1m188/188\u001b[0m \u001b[32m━━━━━━━━━━━━━━━━━━━━\u001b[0m\u001b[37m\u001b[0m \u001b[1m5s\u001b[0m 25ms/step - accuracy: 0.8928 - loss: 0.2445 - val_accuracy: 0.7668 - val_loss: 0.4903\n",
            "Epoch 13/30\n",
            "\u001b[1m188/188\u001b[0m \u001b[32m━━━━━━━━━━━━━━━━━━━━\u001b[0m\u001b[37m\u001b[0m \u001b[1m5s\u001b[0m 25ms/step - accuracy: 0.8965 - loss: 0.2400 - val_accuracy: 0.7651 - val_loss: 0.4919\n",
            "Epoch 14/30\n",
            "\u001b[1m188/188\u001b[0m \u001b[32m━━━━━━━━━━━━━━━━━━━━\u001b[0m\u001b[37m\u001b[0m \u001b[1m5s\u001b[0m 25ms/step - accuracy: 0.9021 - loss: 0.2310 - val_accuracy: 0.7400 - val_loss: 0.5615\n",
            "Epoch 15/30\n",
            "\u001b[1m188/188\u001b[0m \u001b[32m━━━━━━━━━━━━━━━━━━━━\u001b[0m\u001b[37m\u001b[0m \u001b[1m5s\u001b[0m 25ms/step - accuracy: 0.9030 - loss: 0.2249 - val_accuracy: 0.7657 - val_loss: 0.4926\n",
            "Epoch 16/30\n",
            "\u001b[1m188/188\u001b[0m \u001b[32m━━━━━━━━━━━━━━━━━━━━\u001b[0m\u001b[37m\u001b[0m \u001b[1m5s\u001b[0m 25ms/step - accuracy: 0.9097 - loss: 0.2168 - val_accuracy: 0.7514 - val_loss: 0.5334\n",
            "Epoch 17/30\n",
            "\u001b[1m188/188\u001b[0m \u001b[32m━━━━━━━━━━━━━━━━━━━━\u001b[0m\u001b[37m\u001b[0m \u001b[1m5s\u001b[0m 25ms/step - accuracy: 0.9062 - loss: 0.2184 - val_accuracy: 0.7764 - val_loss: 0.4753\n",
            "Epoch 18/30\n",
            "\u001b[1m188/188\u001b[0m \u001b[32m━━━━━━━━━━━━━━━━━━━━\u001b[0m\u001b[37m\u001b[0m \u001b[1m5s\u001b[0m 25ms/step - accuracy: 0.9135 - loss: 0.2054 - val_accuracy: 0.7363 - val_loss: 0.5456\n",
            "Epoch 19/30\n",
            "\u001b[1m188/188\u001b[0m \u001b[32m━━━━━━━━━━━━━━━━━━━━\u001b[0m\u001b[37m\u001b[0m \u001b[1m5s\u001b[0m 25ms/step - accuracy: 0.9163 - loss: 0.1987 - val_accuracy: 0.7624 - val_loss: 0.5235\n",
            "Epoch 20/30\n",
            "\u001b[1m188/188\u001b[0m \u001b[32m━━━━━━━━━━━━━━━━━━━━\u001b[0m\u001b[37m\u001b[0m \u001b[1m5s\u001b[0m 25ms/step - accuracy: 0.9227 - loss: 0.1893 - val_accuracy: 0.7592 - val_loss: 0.5334\n",
            "Epoch 21/30\n",
            "\u001b[1m188/188\u001b[0m \u001b[32m━━━━━━━━━━━━━━━━━━━━\u001b[0m\u001b[37m\u001b[0m \u001b[1m5s\u001b[0m 25ms/step - accuracy: 0.9221 - loss: 0.1875 - val_accuracy: 0.7739 - val_loss: 0.5226\n",
            "Epoch 22/30\n",
            "\u001b[1m188/188\u001b[0m \u001b[32m━━━━━━━━━━━━━━━━━━━━\u001b[0m\u001b[37m\u001b[0m \u001b[1m5s\u001b[0m 25ms/step - accuracy: 0.9266 - loss: 0.1755 - val_accuracy: 0.7350 - val_loss: 0.5586\n",
            "Epoch 23/30\n",
            "\u001b[1m188/188\u001b[0m \u001b[32m━━━━━━━━━━━━━━━━━━━━\u001b[0m\u001b[37m\u001b[0m \u001b[1m5s\u001b[0m 25ms/step - accuracy: 0.9309 - loss: 0.1664 - val_accuracy: 0.7355 - val_loss: 0.7549\n",
            "Epoch 24/30\n",
            "\u001b[1m188/188\u001b[0m \u001b[32m━━━━━━━━━━━━━━━━━━━━\u001b[0m\u001b[37m\u001b[0m \u001b[1m5s\u001b[0m 25ms/step - accuracy: 0.9326 - loss: 0.1678 - val_accuracy: 0.7499 - val_loss: 0.5658\n",
            "Epoch 25/30\n",
            "\u001b[1m188/188\u001b[0m \u001b[32m━━━━━━━━━━━━━━━━━━━━\u001b[0m\u001b[37m\u001b[0m \u001b[1m5s\u001b[0m 25ms/step - accuracy: 0.9345 - loss: 0.1573 - val_accuracy: 0.7466 - val_loss: 0.6860\n",
            "Epoch 26/30\n",
            "\u001b[1m188/188\u001b[0m \u001b[32m━━━━━━━━━━━━━━━━━━━━\u001b[0m\u001b[37m\u001b[0m \u001b[1m5s\u001b[0m 25ms/step - accuracy: 0.9419 - loss: 0.1484 - val_accuracy: 0.7671 - val_loss: 0.6399\n",
            "Epoch 27/30\n",
            "\u001b[1m188/188\u001b[0m \u001b[32m━━━━━━━━━━━━━━━━━━━━\u001b[0m\u001b[37m\u001b[0m \u001b[1m5s\u001b[0m 25ms/step - accuracy: 0.9407 - loss: 0.1455 - val_accuracy: 0.7375 - val_loss: 0.5906\n",
            "Epoch 28/30\n",
            "\u001b[1m188/188\u001b[0m \u001b[32m━━━━━━━━━━━━━━━━━━━━\u001b[0m\u001b[37m\u001b[0m \u001b[1m5s\u001b[0m 25ms/step - accuracy: 0.9465 - loss: 0.1322 - val_accuracy: 0.7402 - val_loss: 0.6325\n",
            "Epoch 29/30\n",
            "\u001b[1m188/188\u001b[0m \u001b[32m━━━━━━━━━━━━━━━━━━━━\u001b[0m\u001b[37m\u001b[0m \u001b[1m5s\u001b[0m 25ms/step - accuracy: 0.9482 - loss: 0.1279 - val_accuracy: 0.7494 - val_loss: 0.6096\n",
            "Epoch 30/30\n",
            "\u001b[1m188/188\u001b[0m \u001b[32m━━━━━━━━━━━━━━━━━━━━\u001b[0m\u001b[37m\u001b[0m \u001b[1m5s\u001b[0m 25ms/step - accuracy: 0.9565 - loss: 0.1153 - val_accuracy: 0.7392 - val_loss: 0.8214\n"
          ]
        },
        {
          "output_type": "execute_result",
          "data": {
            "text/plain": [
              "dict_keys(['accuracy', 'loss', 'val_accuracy', 'val_loss'])"
            ]
          },
          "metadata": {},
          "execution_count": 20
        }
      ]
    },
    {
      "cell_type": "code",
      "source": [
        "model.save('cnn_augmentation_Eff_Nof_6000.keras')"
      ],
      "metadata": {
        "id": "q9hgWw-X8NvC"
      },
      "execution_count": null,
      "outputs": []
    },
    {
      "cell_type": "code",
      "source": [
        "epochs = range(1, len(history_dict['accuracy']) + 1)\n",
        "fig, (ax1, ax2) = plt.subplots(1, 2, figsize=(16, 6))\n",
        "\n",
        "ax1.plot(epochs, history_dict['loss'], 'r-o', label='Training loss')\n",
        "ax1.plot(epochs, history_dict['val_loss'], 'b-o', label='Validation loss')\n",
        "ax1.set_title('Training and Validation Loss', fontsize=18)\n",
        "ax1.set_xlabel('Epochs', fontsize=14)\n",
        "ax1.set_ylabel('Loss', fontsize=14)\n",
        "ax1.grid(True)\n",
        "ax1.legend(fontsize=16)\n",
        "\n",
        "loss_ticks = np.arange(0, 1.1, 0.1)\n",
        "ax1.set_yticks(loss_ticks)\n",
        "\n",
        "ax2.plot(epochs, history_dict['accuracy'], 'r-o', label='Training accuracy')\n",
        "ax2.plot(epochs, history_dict['val_accuracy'], 'b-o', label='Validation accuracy')\n",
        "ax2.set_title('Training and Validation Accuracy', fontsize=18)\n",
        "ax2.set_xlabel('Epochs', fontsize=14)\n",
        "ax2.set_ylabel('Accuracy', fontsize=14)\n",
        "ax2.grid(True)\n",
        "ax2.legend(fontsize=16)\n",
        "\n",
        "accuracy_ticks = np.arange(0, 1.1, 0.1)\n",
        "ax2.set_yticks(accuracy_ticks)\n",
        "\n",
        "plt.tight_layout()\n",
        "plt.savefig(\"CNN_training_aug.pdf\", format='pdf')\n",
        "plt.show()"
      ],
      "metadata": {
        "colab": {
          "base_uri": "https://localhost:8080/",
          "height": 576
        },
        "id": "yRFJGZUQ8G52",
        "outputId": "d1f012a1-fea3-4ea6-acde-db9ecea98bf6"
      },
      "execution_count": null,
      "outputs": [
        {
          "output_type": "display_data",
          "data": {
            "text/plain": [
              "<Figure size 1600x600 with 2 Axes>"
            ],
            "image/png": "[encoded data removed]"
          },
          "metadata": {}
        }
      ]
    },
    {
      "cell_type": "code",
      "source": [
        "\n",
        "class_names = train_dataset.class_names\n",
        "\n",
        "y_true = []\n",
        "y_pred = []\n",
        "\n",
        "for images, labels in val_dataset:\n",
        "    preds = model.predict(images, verbose=0)\n",
        "    y_true.extend(labels.numpy())\n",
        "    y_pred.extend((preds > 0.5).astype(int).flatten())\n",
        "\n",
        "cm = confusion_matrix(y_true, y_pred)\n",
        "\n",
        "plt.figure(figsize=(10, 8))\n",
        "sns.heatmap(cm, annot=True, fmt=\"d\", cmap=\"Blues\",\n",
        "            xticklabels=class_names, yticklabels=class_names)\n",
        "plt.xlabel(\"Predicted Label\", fontsize=14)\n",
        "plt.ylabel(\"True Label\", fontsize=14)\n",
        "\n",
        "plt.savefig(\"CNN_ConfusionMatrix_aug_Eff_NoF_6000.pdf\", format='pdf')\n",
        "plt.show()"
      ],
      "metadata": {
        "colab": {
          "base_uri": "https://localhost:8080/",
          "height": 701
        },
        "id": "B9YAkp928Iy6",
        "outputId": "20401bca-1cd0-44f7-931c-d1e990cebf01"
      },
      "execution_count": null,
      "outputs": [
        {
          "output_type": "display_data",
          "data": {
            "text/plain": [
              "<Figure size 1000x800 with 2 Axes>"
            ],
            "image/png": "[encoded data removed]"
          },
          "metadata": {}
        }
      ]
    },
    {
      "cell_type": "code",
      "source": [
        "print(classification_report(y_true, y_pred))"
      ],
      "metadata": {
        "colab": {
          "base_uri": "https://localhost:8080/"
        },
        "id": "24YaF4mu8KwG",
        "outputId": "a21d2135-ea90-4f46-e3b2-dc540e72cba5"
      },
      "execution_count": null,
      "outputs": [
        {
          "output_type": "stream",
          "name": "stdout",
          "text": [
            "              precision    recall  f1-score   support\n",
            "\n",
            "         0.0       0.60      0.25      0.35      1978\n",
            "         1.0       0.76      0.93      0.84      5000\n",
            "\n",
            "    accuracy                           0.74      6978\n",
            "   macro avg       0.68      0.59      0.59      6978\n",
            "weighted avg       0.71      0.74      0.70      6978\n",
            "\n"
          ]
        }
      ]
    }
  ]
}